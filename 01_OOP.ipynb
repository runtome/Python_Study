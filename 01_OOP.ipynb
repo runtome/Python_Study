{
  "nbformat": 4,
  "nbformat_minor": 0,
  "metadata": {
    "colab": {
      "provenance": [],
      "toc_visible": true
    },
    "kernelspec": {
      "name": "python3",
      "display_name": "Python 3"
    },
    "language_info": {
      "name": "python"
    }
  },
  "cells": [
    {
      "cell_type": "markdown",
      "source": [
        "#OOP"
      ],
      "metadata": {
        "id": "Q6wIB8XO141o"
      }
    },
    {
      "cell_type": "code",
      "source": [
        "#OOP\n",
        "print(type(None))\n",
        "print(type(True))\n",
        "print(type(5))\n",
        "print(type(5.5))\n",
        "print(type('hi'))\n",
        "print(type([]))\n",
        "print(type(()))\n",
        "print(type({}))"
      ],
      "metadata": {
        "colab": {
          "base_uri": "https://localhost:8080/"
        },
        "id": "NuSyPEuQyF02",
        "outputId": "c0a2fde4-75bb-49c1-9053-7085b043586c"
      },
      "execution_count": null,
      "outputs": [
        {
          "output_type": "stream",
          "name": "stdout",
          "text": [
            "<class 'NoneType'>\n",
            "<class 'bool'>\n",
            "<class 'int'>\n",
            "<class 'float'>\n",
            "<class 'str'>\n",
            "<class 'list'>\n",
            "<class 'tuple'>\n",
            "<class 'dict'>\n"
          ]
        }
      ]
    },
    {
      "cell_type": "code",
      "source": [
        "a = \"hi\"\n",
        "a.capitalize()"
      ],
      "metadata": {
        "colab": {
          "base_uri": "https://localhost:8080/",
          "height": 35
        },
        "id": "oVIt6UpWyysl",
        "outputId": "66121f59-49c8-4686-f1aa-fb9c26e46a40"
      },
      "execution_count": null,
      "outputs": [
        {
          "output_type": "execute_result",
          "data": {
            "text/plain": [
              "'Hi'"
            ],
            "application/vnd.google.colaboratory.intrinsic+json": {
              "type": "string"
            }
          },
          "metadata": {},
          "execution_count": 5
        }
      ]
    },
    {
      "cell_type": "code",
      "source": [
        "print(dir('hi'))"
      ],
      "metadata": {
        "colab": {
          "base_uri": "https://localhost:8080/"
        },
        "id": "8Ae8oiLjzBJE",
        "outputId": "4bb8b223-4759-431e-8dbf-0db7cca47ff8"
      },
      "execution_count": null,
      "outputs": [
        {
          "output_type": "stream",
          "name": "stdout",
          "text": [
            "['__add__', '__class__', '__contains__', '__delattr__', '__dir__', '__doc__', '__eq__', '__format__', '__ge__', '__getattribute__', '__getitem__', '__getnewargs__', '__getstate__', '__gt__', '__hash__', '__init__', '__init_subclass__', '__iter__', '__le__', '__len__', '__lt__', '__mod__', '__mul__', '__ne__', '__new__', '__reduce__', '__reduce_ex__', '__repr__', '__rmod__', '__rmul__', '__setattr__', '__sizeof__', '__str__', '__subclasshook__', 'capitalize', 'casefold', 'center', 'count', 'encode', 'endswith', 'expandtabs', 'find', 'format', 'format_map', 'index', 'isalnum', 'isalpha', 'isascii', 'isdecimal', 'isdigit', 'isidentifier', 'islower', 'isnumeric', 'isprintable', 'isspace', 'istitle', 'isupper', 'join', 'ljust', 'lower', 'lstrip', 'maketrans', 'partition', 'removeprefix', 'removesuffix', 'replace', 'rfind', 'rindex', 'rjust', 'rpartition', 'rsplit', 'rstrip', 'split', 'splitlines', 'startswith', 'strip', 'swapcase', 'title', 'translate', 'upper', 'zfill']\n"
          ]
        }
      ]
    },
    {
      "cell_type": "code",
      "source": [
        "#Every thing in object\n",
        "#Object have method\n",
        "print(dir(None))\n",
        "print(dir(True))\n",
        "print(dir(5))\n",
        "print(dir(5.5))\n",
        "print(dir('hi'))\n",
        "print(dir([]))\n",
        "print(dir(()))\n",
        "print(dir({}))"
      ],
      "metadata": {
        "colab": {
          "base_uri": "https://localhost:8080/"
        },
        "id": "6P3STrmhye8H",
        "outputId": "22b166a8-afac-462f-a344-57a1cdd9a7ad"
      },
      "execution_count": null,
      "outputs": [
        {
          "output_type": "stream",
          "name": "stdout",
          "text": [
            "['__bool__', '__class__', '__delattr__', '__dir__', '__doc__', '__eq__', '__format__', '__ge__', '__getattribute__', '__getstate__', '__gt__', '__hash__', '__init__', '__init_subclass__', '__le__', '__lt__', '__ne__', '__new__', '__reduce__', '__reduce_ex__', '__repr__', '__setattr__', '__sizeof__', '__str__', '__subclasshook__']\n",
            "['__abs__', '__add__', '__and__', '__bool__', '__ceil__', '__class__', '__delattr__', '__dir__', '__divmod__', '__doc__', '__eq__', '__float__', '__floor__', '__floordiv__', '__format__', '__ge__', '__getattribute__', '__getnewargs__', '__getstate__', '__gt__', '__hash__', '__index__', '__init__', '__init_subclass__', '__int__', '__invert__', '__le__', '__lshift__', '__lt__', '__mod__', '__mul__', '__ne__', '__neg__', '__new__', '__or__', '__pos__', '__pow__', '__radd__', '__rand__', '__rdivmod__', '__reduce__', '__reduce_ex__', '__repr__', '__rfloordiv__', '__rlshift__', '__rmod__', '__rmul__', '__ror__', '__round__', '__rpow__', '__rrshift__', '__rshift__', '__rsub__', '__rtruediv__', '__rxor__', '__setattr__', '__sizeof__', '__str__', '__sub__', '__subclasshook__', '__truediv__', '__trunc__', '__xor__', 'as_integer_ratio', 'bit_count', 'bit_length', 'conjugate', 'denominator', 'from_bytes', 'imag', 'numerator', 'real', 'to_bytes']\n",
            "['__abs__', '__add__', '__and__', '__bool__', '__ceil__', '__class__', '__delattr__', '__dir__', '__divmod__', '__doc__', '__eq__', '__float__', '__floor__', '__floordiv__', '__format__', '__ge__', '__getattribute__', '__getnewargs__', '__getstate__', '__gt__', '__hash__', '__index__', '__init__', '__init_subclass__', '__int__', '__invert__', '__le__', '__lshift__', '__lt__', '__mod__', '__mul__', '__ne__', '__neg__', '__new__', '__or__', '__pos__', '__pow__', '__radd__', '__rand__', '__rdivmod__', '__reduce__', '__reduce_ex__', '__repr__', '__rfloordiv__', '__rlshift__', '__rmod__', '__rmul__', '__ror__', '__round__', '__rpow__', '__rrshift__', '__rshift__', '__rsub__', '__rtruediv__', '__rxor__', '__setattr__', '__sizeof__', '__str__', '__sub__', '__subclasshook__', '__truediv__', '__trunc__', '__xor__', 'as_integer_ratio', 'bit_count', 'bit_length', 'conjugate', 'denominator', 'from_bytes', 'imag', 'numerator', 'real', 'to_bytes']\n",
            "['__abs__', '__add__', '__bool__', '__ceil__', '__class__', '__delattr__', '__dir__', '__divmod__', '__doc__', '__eq__', '__float__', '__floor__', '__floordiv__', '__format__', '__ge__', '__getattribute__', '__getformat__', '__getnewargs__', '__getstate__', '__gt__', '__hash__', '__init__', '__init_subclass__', '__int__', '__le__', '__lt__', '__mod__', '__mul__', '__ne__', '__neg__', '__new__', '__pos__', '__pow__', '__radd__', '__rdivmod__', '__reduce__', '__reduce_ex__', '__repr__', '__rfloordiv__', '__rmod__', '__rmul__', '__round__', '__rpow__', '__rsub__', '__rtruediv__', '__setattr__', '__sizeof__', '__str__', '__sub__', '__subclasshook__', '__truediv__', '__trunc__', 'as_integer_ratio', 'conjugate', 'fromhex', 'hex', 'imag', 'is_integer', 'real']\n",
            "['__add__', '__class__', '__contains__', '__delattr__', '__dir__', '__doc__', '__eq__', '__format__', '__ge__', '__getattribute__', '__getitem__', '__getnewargs__', '__getstate__', '__gt__', '__hash__', '__init__', '__init_subclass__', '__iter__', '__le__', '__len__', '__lt__', '__mod__', '__mul__', '__ne__', '__new__', '__reduce__', '__reduce_ex__', '__repr__', '__rmod__', '__rmul__', '__setattr__', '__sizeof__', '__str__', '__subclasshook__', 'capitalize', 'casefold', 'center', 'count', 'encode', 'endswith', 'expandtabs', 'find', 'format', 'format_map', 'index', 'isalnum', 'isalpha', 'isascii', 'isdecimal', 'isdigit', 'isidentifier', 'islower', 'isnumeric', 'isprintable', 'isspace', 'istitle', 'isupper', 'join', 'ljust', 'lower', 'lstrip', 'maketrans', 'partition', 'removeprefix', 'removesuffix', 'replace', 'rfind', 'rindex', 'rjust', 'rpartition', 'rsplit', 'rstrip', 'split', 'splitlines', 'startswith', 'strip', 'swapcase', 'title', 'translate', 'upper', 'zfill']\n",
            "['__add__', '__class__', '__class_getitem__', '__contains__', '__delattr__', '__delitem__', '__dir__', '__doc__', '__eq__', '__format__', '__ge__', '__getattribute__', '__getitem__', '__getstate__', '__gt__', '__hash__', '__iadd__', '__imul__', '__init__', '__init_subclass__', '__iter__', '__le__', '__len__', '__lt__', '__mul__', '__ne__', '__new__', '__reduce__', '__reduce_ex__', '__repr__', '__reversed__', '__rmul__', '__setattr__', '__setitem__', '__sizeof__', '__str__', '__subclasshook__', 'append', 'clear', 'copy', 'count', 'extend', 'index', 'insert', 'pop', 'remove', 'reverse', 'sort']\n",
            "['__add__', '__class__', '__class_getitem__', '__contains__', '__delattr__', '__dir__', '__doc__', '__eq__', '__format__', '__ge__', '__getattribute__', '__getitem__', '__getnewargs__', '__getstate__', '__gt__', '__hash__', '__init__', '__init_subclass__', '__iter__', '__le__', '__len__', '__lt__', '__mul__', '__ne__', '__new__', '__reduce__', '__reduce_ex__', '__repr__', '__rmul__', '__setattr__', '__sizeof__', '__str__', '__subclasshook__', 'count', 'index']\n",
            "['__class__', '__class_getitem__', '__contains__', '__delattr__', '__delitem__', '__dir__', '__doc__', '__eq__', '__format__', '__ge__', '__getattribute__', '__getitem__', '__getstate__', '__gt__', '__hash__', '__init__', '__init_subclass__', '__ior__', '__iter__', '__le__', '__len__', '__lt__', '__ne__', '__new__', '__or__', '__reduce__', '__reduce_ex__', '__repr__', '__reversed__', '__ror__', '__setattr__', '__setitem__', '__sizeof__', '__str__', '__subclasshook__', 'clear', 'copy', 'fromkeys', 'get', 'items', 'keys', 'pop', 'popitem', 'setdefault', 'update', 'values']\n"
          ]
        }
      ]
    },
    {
      "cell_type": "code",
      "source": [
        "#Make Class\n",
        "class BigObject:\n",
        "    pass\n",
        "a = BigObject()\n",
        "print(type(a))\n",
        "print(dir(a))"
      ],
      "metadata": {
        "colab": {
          "base_uri": "https://localhost:8080/"
        },
        "id": "s2M-mdSMyl0W",
        "outputId": "1dc29a18-fe9a-4c22-c608-c56a491f7166"
      },
      "execution_count": null,
      "outputs": [
        {
          "output_type": "stream",
          "name": "stdout",
          "text": [
            "<class '__main__.BigObject'>\n",
            "['__class__', '__delattr__', '__dict__', '__dir__', '__doc__', '__eq__', '__format__', '__ge__', '__getattribute__', '__getstate__', '__gt__', '__hash__', '__init__', '__init_subclass__', '__le__', '__lt__', '__module__', '__ne__', '__new__', '__reduce__', '__reduce_ex__', '__repr__', '__setattr__', '__sizeof__', '__str__', '__subclasshook__', '__weakref__']\n"
          ]
        }
      ]
    },
    {
      "cell_type": "code",
      "source": [
        "obj1 = BigObject()\n",
        "obj2 = BigObject()\n",
        "print(obj1 == obj2)"
      ],
      "metadata": {
        "colab": {
          "base_uri": "https://localhost:8080/"
        },
        "id": "-1L3MiPn0apH",
        "outputId": "28ef25bd-b7c8-4650-cb8a-e899ef519c5d"
      },
      "execution_count": null,
      "outputs": [
        {
          "output_type": "stream",
          "name": "stdout",
          "text": [
            "False\n"
          ]
        }
      ]
    },
    {
      "cell_type": "code",
      "source": [
        "print(type(obj1))"
      ],
      "metadata": {
        "colab": {
          "base_uri": "https://localhost:8080/"
        },
        "id": "n8FK5ytW0spV",
        "outputId": "251cc949-d07f-4061-88cb-de38bb417bd0"
      },
      "execution_count": null,
      "outputs": [
        {
          "output_type": "stream",
          "name": "stdout",
          "text": [
            "<class '__main__.BigObject'>\n"
          ]
        }
      ]
    },
    {
      "cell_type": "code",
      "source": [
        "class BigObject:\n",
        "    __str__ = lambda self: \"BigObject\"\n",
        "a = BigObject()\n",
        "print(a)"
      ],
      "metadata": {
        "colab": {
          "base_uri": "https://localhost:8080/"
        },
        "id": "OwU3mLUj0yhE",
        "outputId": "b71ebd47-0bf3-45bb-ebd0-a35eb218d9e1"
      },
      "execution_count": null,
      "outputs": [
        {
          "output_type": "stream",
          "name": "stdout",
          "text": [
            "BigObject\n"
          ]
        }
      ]
    },
    {
      "cell_type": "markdown",
      "source": [
        "![Screenshot 2025-04-30 105504.jpg](data:image/jpeg;base64,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)"
      ],
      "metadata": {
        "id": "lhZLEKry1Uf0"
      }
    },
    {
      "cell_type": "markdown",
      "source": [
        "##Create Our Own Object"
      ],
      "metadata": {
        "id": "jGbXp0ji1GH-"
      }
    },
    {
      "cell_type": "code",
      "source": [
        "class ClassName:\n",
        "    def __init__(self, arg1, arg2):       # Constructor method\n",
        "        self.arg1 = arg1                  # Instance attribute\n",
        "        self.arg2 = arg2\n",
        "\n",
        "    def _private_method(self):            # Instance method\n",
        "        return self.arg1\n",
        "\n",
        "    def public_method(self, x):           # Method with extra argument\n",
        "        return self.arg2 + x"
      ],
      "metadata": {
        "id": "Iuq9c9-c3fvj"
      },
      "execution_count": null,
      "outputs": []
    },
    {
      "cell_type": "code",
      "source": [
        "class PlayerCharacter:\n",
        "    def __init__(self, name, age): #dunder method , self refer to itself\n",
        "        self.name = name\n",
        "        self.age = age\n",
        "\n",
        "    def run(self): # Instance method\n",
        "        print(\"run\")\n",
        "\n",
        "    def length(self): # Instance method\n",
        "        return len(self.name)\n"
      ],
      "metadata": {
        "id": "Uvh-awBF18eb"
      },
      "execution_count": null,
      "outputs": []
    },
    {
      "cell_type": "code",
      "source": [
        "# Create instance\n",
        "player1 = PlayerCharacter()\n",
        "print(player1)"
      ],
      "metadata": {
        "colab": {
          "base_uri": "https://localhost:8080/",
          "height": 176
        },
        "id": "VkKKsYu42pk3",
        "outputId": "b6ab5c9b-5555-49dd-8246-770fdf718cde"
      },
      "execution_count": null,
      "outputs": [
        {
          "output_type": "error",
          "ename": "TypeError",
          "evalue": "PlayerCharacter.__init__() missing 2 required positional arguments: 'name' and 'age'",
          "traceback": [
            "\u001b[0;31m---------------------------------------------------------------------------\u001b[0m",
            "\u001b[0;31mTypeError\u001b[0m                                 Traceback (most recent call last)",
            "\u001b[0;32m<ipython-input-12-c75143d23a28>\u001b[0m in \u001b[0;36m<cell line: 0>\u001b[0;34m()\u001b[0m\n\u001b[1;32m      1\u001b[0m \u001b[0;31m# Create instance\u001b[0m\u001b[0;34m\u001b[0m\u001b[0;34m\u001b[0m\u001b[0m\n\u001b[0;32m----> 2\u001b[0;31m \u001b[0mplayer1\u001b[0m \u001b[0;34m=\u001b[0m \u001b[0mPlayerCharacter\u001b[0m\u001b[0;34m(\u001b[0m\u001b[0;34m)\u001b[0m\u001b[0;34m\u001b[0m\u001b[0;34m\u001b[0m\u001b[0m\n\u001b[0m\u001b[1;32m      3\u001b[0m \u001b[0mprint\u001b[0m\u001b[0;34m(\u001b[0m\u001b[0mplayer1\u001b[0m\u001b[0;34m)\u001b[0m\u001b[0;34m\u001b[0m\u001b[0;34m\u001b[0m\u001b[0m\n",
            "\u001b[0;31mTypeError\u001b[0m: PlayerCharacter.__init__() missing 2 required positional arguments: 'name' and 'age'"
          ]
        }
      ]
    },
    {
      "cell_type": "code",
      "source": [
        "player1 = PlayerCharacter(\"Sam\", 22)\n",
        "print(player1.name)\n",
        "print(player1.age)\n",
        "player1.run()"
      ],
      "metadata": {
        "colab": {
          "base_uri": "https://localhost:8080/"
        },
        "id": "cH0P4u2v2-Iv",
        "outputId": "985ee8f5-792a-4c1a-92b6-9c23e6d97d7d"
      },
      "execution_count": null,
      "outputs": [
        {
          "output_type": "stream",
          "name": "stdout",
          "text": [
            "Sam\n",
            "22\n",
            "run\n"
          ]
        }
      ]
    },
    {
      "cell_type": "code",
      "source": [
        "player2 =PlayerCharacter(\"Tom\" , 34)"
      ],
      "metadata": {
        "id": "SX1DjXPi3CqN"
      },
      "execution_count": null,
      "outputs": []
    },
    {
      "cell_type": "code",
      "source": [
        "print(player1.name)\n",
        "print(player2.name)"
      ],
      "metadata": {
        "colab": {
          "base_uri": "https://localhost:8080/"
        },
        "id": "_u4UKtLO4Vgg",
        "outputId": "283fbfab-be83-4359-ab16-486b32db0f4f"
      },
      "execution_count": null,
      "outputs": [
        {
          "output_type": "stream",
          "name": "stdout",
          "text": [
            "Sam\n",
            "Tom\n"
          ]
        }
      ]
    },
    {
      "cell_type": "code",
      "source": [
        "player1.age+player2.age"
      ],
      "metadata": {
        "colab": {
          "base_uri": "https://localhost:8080/"
        },
        "id": "gfwsMrd64doN",
        "outputId": "9d70a3eb-8394-4099-8e4e-77ded62610a5"
      },
      "execution_count": null,
      "outputs": [
        {
          "output_type": "execute_result",
          "data": {
            "text/plain": [
              "56"
            ]
          },
          "metadata": {},
          "execution_count": 20
        }
      ]
    },
    {
      "cell_type": "code",
      "source": [
        "print(player1.length())"
      ],
      "metadata": {
        "colab": {
          "base_uri": "https://localhost:8080/"
        },
        "id": "tGiFb-uF4nmO",
        "outputId": "ef82e9e8-259b-4a89-ca85-6ad9b3cc868a"
      },
      "execution_count": null,
      "outputs": [
        {
          "output_type": "stream",
          "name": "stdout",
          "text": [
            "3\n"
          ]
        }
      ]
    },
    {
      "cell_type": "code",
      "source": [
        "print(player1.run())"
      ],
      "metadata": {
        "colab": {
          "base_uri": "https://localhost:8080/"
        },
        "id": "M-X68YEn5a--",
        "outputId": "1a8c54af-2c11-499d-bde2-8f9718317347"
      },
      "execution_count": null,
      "outputs": [
        {
          "output_type": "stream",
          "name": "stdout",
          "text": [
            "run\n",
            "None\n"
          ]
        }
      ]
    },
    {
      "cell_type": "code",
      "source": [
        "#Object is on differance memory locaiton\n",
        "print(player1)\n",
        "print(player2)"
      ],
      "metadata": {
        "colab": {
          "base_uri": "https://localhost:8080/"
        },
        "id": "NKlWnba55hxW",
        "outputId": "f8630996-ac24-4835-df78-b281fe3b1e0e"
      },
      "execution_count": null,
      "outputs": [
        {
          "output_type": "stream",
          "name": "stdout",
          "text": [
            "<__main__.PlayerCharacter object at 0x7b7b2afc5690>\n",
            "<__main__.PlayerCharacter object at 0x7b7b2b196750>\n"
          ]
        }
      ]
    },
    {
      "cell_type": "code",
      "source": [
        "#if only referobject\n",
        "# Create an object\n",
        "player1 = PlayerCharacter(\"Alice\", 100)\n",
        "\n",
        "# Assign player2 to refer to the same object as player1\n",
        "player2 = player1\n",
        "\n",
        "# Modify using player2\n",
        "player2.age = 50\n",
        "\n",
        "print(\"player1:\", player1.age)\n",
        "print(\"player2:\", player2.age)\n",
        "\n",
        "# Print both to show that both reflect the change\n",
        "print(\"player1:\", player1)\n",
        "print(\"player2:\", player2)"
      ],
      "metadata": {
        "colab": {
          "base_uri": "https://localhost:8080/"
        },
        "id": "BvZdD-Cl5soM",
        "outputId": "5c28e1c2-6747-4958-c978-bfd2401cc9be"
      },
      "execution_count": null,
      "outputs": [
        {
          "output_type": "stream",
          "name": "stdout",
          "text": [
            "player1: 50\n",
            "player2: 50\n",
            "player1: <__main__.PlayerCharacter object at 0x7b7b2afee590>\n",
            "player2: <__main__.PlayerCharacter object at 0x7b7b2afee590>\n"
          ]
        }
      ]
    },
    {
      "cell_type": "code",
      "source": [
        "## Next\n",
        "player1 = PlayerCharacter(\"Sam\", 22)\n",
        "player2 =PlayerCharacter(\"Tom\" , 34)"
      ],
      "metadata": {
        "id": "pwWrCM9e6T5f"
      },
      "execution_count": null,
      "outputs": []
    },
    {
      "cell_type": "code",
      "source": [
        "player2.attach = 50"
      ],
      "metadata": {
        "id": "R_-am_jC6_fn"
      },
      "execution_count": null,
      "outputs": []
    },
    {
      "cell_type": "code",
      "source": [
        "print(player2.attach)\n",
        "print(player1.attach)"
      ],
      "metadata": {
        "colab": {
          "base_uri": "https://localhost:8080/",
          "height": 176
        },
        "id": "s-2YdVpI8TsW",
        "outputId": "7cead56a-cf44-4c60-a180-f134688b5087"
      },
      "execution_count": null,
      "outputs": [
        {
          "output_type": "stream",
          "name": "stdout",
          "text": [
            "50\n"
          ]
        },
        {
          "output_type": "error",
          "ename": "AttributeError",
          "evalue": "'PlayerCharacter' object has no attribute 'attach'",
          "traceback": [
            "\u001b[0;31m---------------------------------------------------------------------------\u001b[0m",
            "\u001b[0;31mAttributeError\u001b[0m                            Traceback (most recent call last)",
            "\u001b[0;32m<ipython-input-31-27ae581978a9>\u001b[0m in \u001b[0;36m<cell line: 0>\u001b[0;34m()\u001b[0m\n\u001b[1;32m      1\u001b[0m \u001b[0mprint\u001b[0m\u001b[0;34m(\u001b[0m\u001b[0mplayer2\u001b[0m\u001b[0;34m.\u001b[0m\u001b[0mattach\u001b[0m\u001b[0;34m)\u001b[0m\u001b[0;34m\u001b[0m\u001b[0;34m\u001b[0m\u001b[0m\n\u001b[0;32m----> 2\u001b[0;31m \u001b[0mprint\u001b[0m\u001b[0;34m(\u001b[0m\u001b[0mplayer1\u001b[0m\u001b[0;34m.\u001b[0m\u001b[0mattach\u001b[0m\u001b[0;34m)\u001b[0m\u001b[0;34m\u001b[0m\u001b[0;34m\u001b[0m\u001b[0m\n\u001b[0m",
            "\u001b[0;31mAttributeError\u001b[0m: 'PlayerCharacter' object has no attribute 'attach'"
          ]
        }
      ]
    },
    {
      "cell_type": "markdown",
      "source": [
        "##Attribute & Method"
      ],
      "metadata": {
        "id": "dlevUfQP8ah2"
      }
    },
    {
      "cell_type": "code",
      "source": [
        "help(player1)"
      ],
      "metadata": {
        "colab": {
          "base_uri": "https://localhost:8080/"
        },
        "id": "CLTktyZ68rXb",
        "outputId": "4b4df3ad-ccad-4066-863e-2cb7af4b3729"
      },
      "execution_count": null,
      "outputs": [
        {
          "output_type": "stream",
          "name": "stdout",
          "text": [
            "Help on PlayerCharacter in module __main__ object:\n",
            "\n",
            "class PlayerCharacter(builtins.object)\n",
            " |  PlayerCharacter(name, age)\n",
            " |  \n",
            " |  Methods defined here:\n",
            " |  \n",
            " |  __init__(self, name, age)\n",
            " |      Initialize self.  See help(type(self)) for accurate signature.\n",
            " |  \n",
            " |  length(self)\n",
            " |  \n",
            " |  run(self)\n",
            " |  \n",
            " |  ----------------------------------------------------------------------\n",
            " |  Data descriptors defined here:\n",
            " |  \n",
            " |  __dict__\n",
            " |      dictionary for instance variables\n",
            " |  \n",
            " |  __weakref__\n",
            " |      list of weak references to the object\n",
            "\n"
          ]
        }
      ]
    },
    {
      "cell_type": "code",
      "source": [
        "help(list)"
      ],
      "metadata": {
        "colab": {
          "base_uri": "https://localhost:8080/"
        },
        "id": "lH25dF508yUs",
        "outputId": "a6b1a64a-f3e6-4238-c5c4-5c191709b970"
      },
      "execution_count": null,
      "outputs": [
        {
          "output_type": "stream",
          "name": "stdout",
          "text": [
            "Help on class list in module builtins:\n",
            "\n",
            "class list(object)\n",
            " |  list(iterable=(), /)\n",
            " |  \n",
            " |  Built-in mutable sequence.\n",
            " |  \n",
            " |  If no argument is given, the constructor creates a new empty list.\n",
            " |  The argument must be an iterable if specified.\n",
            " |  \n",
            " |  Methods defined here:\n",
            " |  \n",
            " |  __add__(self, value, /)\n",
            " |      Return self+value.\n",
            " |  \n",
            " |  __contains__(self, key, /)\n",
            " |      Return key in self.\n",
            " |  \n",
            " |  __delitem__(self, key, /)\n",
            " |      Delete self[key].\n",
            " |  \n",
            " |  __eq__(self, value, /)\n",
            " |      Return self==value.\n",
            " |  \n",
            " |  __ge__(self, value, /)\n",
            " |      Return self>=value.\n",
            " |  \n",
            " |  __getattribute__(self, name, /)\n",
            " |      Return getattr(self, name).\n",
            " |  \n",
            " |  __getitem__(...)\n",
            " |      x.__getitem__(y) <==> x[y]\n",
            " |  \n",
            " |  __gt__(self, value, /)\n",
            " |      Return self>value.\n",
            " |  \n",
            " |  __iadd__(self, value, /)\n",
            " |      Implement self+=value.\n",
            " |  \n",
            " |  __imul__(self, value, /)\n",
            " |      Implement self*=value.\n",
            " |  \n",
            " |  __init__(self, /, *args, **kwargs)\n",
            " |      Initialize self.  See help(type(self)) for accurate signature.\n",
            " |  \n",
            " |  __iter__(self, /)\n",
            " |      Implement iter(self).\n",
            " |  \n",
            " |  __le__(self, value, /)\n",
            " |      Return self<=value.\n",
            " |  \n",
            " |  __len__(self, /)\n",
            " |      Return len(self).\n",
            " |  \n",
            " |  __lt__(self, value, /)\n",
            " |      Return self<value.\n",
            " |  \n",
            " |  __mul__(self, value, /)\n",
            " |      Return self*value.\n",
            " |  \n",
            " |  __ne__(self, value, /)\n",
            " |      Return self!=value.\n",
            " |  \n",
            " |  __repr__(self, /)\n",
            " |      Return repr(self).\n",
            " |  \n",
            " |  __reversed__(self, /)\n",
            " |      Return a reverse iterator over the list.\n",
            " |  \n",
            " |  __rmul__(self, value, /)\n",
            " |      Return value*self.\n",
            " |  \n",
            " |  __setitem__(self, key, value, /)\n",
            " |      Set self[key] to value.\n",
            " |  \n",
            " |  __sizeof__(self, /)\n",
            " |      Return the size of the list in memory, in bytes.\n",
            " |  \n",
            " |  append(self, object, /)\n",
            " |      Append object to the end of the list.\n",
            " |  \n",
            " |  clear(self, /)\n",
            " |      Remove all items from list.\n",
            " |  \n",
            " |  copy(self, /)\n",
            " |      Return a shallow copy of the list.\n",
            " |  \n",
            " |  count(self, value, /)\n",
            " |      Return number of occurrences of value.\n",
            " |  \n",
            " |  extend(self, iterable, /)\n",
            " |      Extend list by appending elements from the iterable.\n",
            " |  \n",
            " |  index(self, value, start=0, stop=9223372036854775807, /)\n",
            " |      Return first index of value.\n",
            " |      \n",
            " |      Raises ValueError if the value is not present.\n",
            " |  \n",
            " |  insert(self, index, object, /)\n",
            " |      Insert object before index.\n",
            " |  \n",
            " |  pop(self, index=-1, /)\n",
            " |      Remove and return item at index (default last).\n",
            " |      \n",
            " |      Raises IndexError if list is empty or index is out of range.\n",
            " |  \n",
            " |  remove(self, value, /)\n",
            " |      Remove first occurrence of value.\n",
            " |      \n",
            " |      Raises ValueError if the value is not present.\n",
            " |  \n",
            " |  reverse(self, /)\n",
            " |      Reverse *IN PLACE*.\n",
            " |  \n",
            " |  sort(self, /, *, key=None, reverse=False)\n",
            " |      Sort the list in ascending order and return None.\n",
            " |      \n",
            " |      The sort is in-place (i.e. the list itself is modified) and stable (i.e. the\n",
            " |      order of two equal elements is maintained).\n",
            " |      \n",
            " |      If a key function is given, apply it once to each list item and sort them,\n",
            " |      ascending or descending, according to their function values.\n",
            " |      \n",
            " |      The reverse flag can be set to sort in descending order.\n",
            " |  \n",
            " |  ----------------------------------------------------------------------\n",
            " |  Class methods defined here:\n",
            " |  \n",
            " |  __class_getitem__(...)\n",
            " |      See PEP 585\n",
            " |  \n",
            " |  ----------------------------------------------------------------------\n",
            " |  Static methods defined here:\n",
            " |  \n",
            " |  __new__(*args, **kwargs)\n",
            " |      Create and return a new object.  See help(type) for accurate signature.\n",
            " |  \n",
            " |  ----------------------------------------------------------------------\n",
            " |  Data and other attributes defined here:\n",
            " |  \n",
            " |  __hash__ = None\n",
            "\n"
          ]
        }
      ]
    },
    {
      "cell_type": "code",
      "source": [
        "#Attribute\n",
        "class PlayerCharacter:\n",
        "    membership = True # Class boject attribute\n",
        "    def __init__(self, name, age): #dunder method , self refer to itself\n",
        "        self.name = name\n",
        "        self.age = age\n",
        "\n",
        "    def run(self): # Instance method\n",
        "        print(\"run\")\n",
        "\n",
        "    def length(self): # Instance method\n",
        "        return len(self.name)"
      ],
      "metadata": {
        "id": "xSopnvrJ8t1l"
      },
      "execution_count": null,
      "outputs": []
    },
    {
      "cell_type": "code",
      "source": [
        "player1 = PlayerCharacter(\"Sam\", 22)\n",
        "player2 =PlayerCharacter(\"Tom\" , 34)"
      ],
      "metadata": {
        "id": "6fh3KNyd9dvq"
      },
      "execution_count": null,
      "outputs": []
    },
    {
      "cell_type": "code",
      "source": [
        "print(player2.membership)"
      ],
      "metadata": {
        "colab": {
          "base_uri": "https://localhost:8080/"
        },
        "id": "SacaIC6A93nd",
        "outputId": "c0398154-1061-49e5-fad0-7f57190af246"
      },
      "execution_count": null,
      "outputs": [
        {
          "output_type": "stream",
          "name": "stdout",
          "text": [
            "False\n"
          ]
        }
      ]
    },
    {
      "cell_type": "code",
      "source": [
        "#Attribute\n",
        "class PlayerCharacter:\n",
        "    membership = True # Class boject attribute\n",
        "    def __init__(self, name, age): #dunder method , self refer to itself\n",
        "        if (self.membership):\n",
        "            self.name = name\n",
        "            self.age = age\n",
        "        else:\n",
        "            print(\"You shall not pass!\")\n",
        "\n",
        "    def run(self): # Instance method\n",
        "        print(\"run\")\n",
        "\n",
        "    def length(self): # Instance method\n",
        "        return len(self.name)"
      ],
      "metadata": {
        "id": "VxPGtLRm-FO7"
      },
      "execution_count": null,
      "outputs": []
    },
    {
      "cell_type": "code",
      "source": [
        "player1 = PlayerCharacter(\"Sam\", 22)\n",
        "player2 =PlayerCharacter(\"Tom\" , 34)"
      ],
      "metadata": {
        "id": "cUvr06Sf-SC1"
      },
      "execution_count": null,
      "outputs": []
    },
    {
      "cell_type": "code",
      "source": [
        "#Attribute\n",
        "class PlayerCharacter:\n",
        "    membership = True # Class boject attribute\n",
        "    def __init__(self, name, age): #dunder method , self refer to itself\n",
        "        if (self.membership):\n",
        "            self.name = name\n",
        "            self.age = age\n",
        "        else:\n",
        "            print(\"You shall not pass!\")\n",
        "\n",
        "    def shout (self): # Instance method\n",
        "        print(f\"My name is {self.name}\")\n",
        "\n",
        "    def length(self): # Instance method\n",
        "        return len(self.name)"
      ],
      "metadata": {
        "id": "gw673Ofj-Sfr"
      },
      "execution_count": null,
      "outputs": []
    },
    {
      "cell_type": "code",
      "source": [
        "player1 = PlayerCharacter(\"Sam\", 22)\n",
        "player2 =PlayerCharacter(\"Tom\" , 34)"
      ],
      "metadata": {
        "id": "jnwz5wpZ-oz8"
      },
      "execution_count": null,
      "outputs": []
    },
    {
      "cell_type": "code",
      "source": [
        "print(player1.shout())\n",
        "print(player2.shout())"
      ],
      "metadata": {
        "colab": {
          "base_uri": "https://localhost:8080/"
        },
        "id": "qSKjB5q5-pXt",
        "outputId": "20fcf821-5646-40ef-e469-6414162c6822"
      },
      "execution_count": null,
      "outputs": [
        {
          "output_type": "stream",
          "name": "stdout",
          "text": [
            "My name is Sam\n",
            "None\n",
            "My name is Tom\n",
            "None\n"
          ]
        }
      ]
    },
    {
      "cell_type": "code",
      "source": [
        "#Attribute\n",
        "class PlayerCharacter:\n",
        "    membership = True # Class boject attribute\n",
        "    def __init__(self, name, age): #dunder method , self refer to itself\n",
        "        if (self.membership):\n",
        "            self.name = name\n",
        "            self.age = age\n",
        "        else:\n",
        "            print(\"You shall not pass!\")\n",
        "\n",
        "    def shout (self): # Instance method\n",
        "        return f\"My name is {self.name}\"\n",
        "\n",
        "    def length(self): # Instance method\n",
        "        return len(self.name)"
      ],
      "metadata": {
        "id": "Ynl9_1Q7-vYc"
      },
      "execution_count": null,
      "outputs": []
    },
    {
      "cell_type": "code",
      "source": [
        "player1 = PlayerCharacter(\"Sam\", 22)\n",
        "player2 =PlayerCharacter(\"Tom\" , 34)\n",
        "\n",
        "print(player1.shout())\n",
        "print(player2.shout())"
      ],
      "metadata": {
        "colab": {
          "base_uri": "https://localhost:8080/"
        },
        "id": "DU0pZ-kk-7DG",
        "outputId": "66057f6a-1a80-4f52-93b1-0049c61332fc"
      },
      "execution_count": null,
      "outputs": [
        {
          "output_type": "stream",
          "name": "stdout",
          "text": [
            "My name is Sam\n",
            "My name is Tom\n"
          ]
        }
      ]
    },
    {
      "cell_type": "markdown",
      "source": [
        "## __init__"
      ],
      "metadata": {
        "id": "uPoSk-8U--ku"
      }
    },
    {
      "cell_type": "code",
      "source": [
        "class PlayerCharacter:\n",
        "    membership = True\n",
        "    def __init__(self, name=\"Boonme\", age=0): #initial value\n",
        "        if (age > 18):\n",
        "            self.name = name\n",
        "            self.age = age\n",
        "        else:\n",
        "            print(\"You shall not pass!\")\n",
        "\n",
        "    def shout (self):\n",
        "        return f\"My name is {self.name}\"\n",
        "\n",
        "    def length(self):\n",
        "        return len(self.name)"
      ],
      "metadata": {
        "id": "RS6OXZmD_rP6"
      },
      "execution_count": null,
      "outputs": []
    },
    {
      "cell_type": "code",
      "source": [
        "player1 = PlayerCharacter()"
      ],
      "metadata": {
        "colab": {
          "base_uri": "https://localhost:8080/"
        },
        "id": "Wd9SqqhW_xKX",
        "outputId": "ad1b0c30-2237-4ae6-ff75-816d218613d6"
      },
      "execution_count": null,
      "outputs": [
        {
          "output_type": "stream",
          "name": "stdout",
          "text": [
            "You shall not pass!\n"
          ]
        }
      ]
    },
    {
      "cell_type": "code",
      "source": [
        "player1"
      ],
      "metadata": {
        "colab": {
          "base_uri": "https://localhost:8080/"
        },
        "id": "d75tvAeVArdT",
        "outputId": "a9f6c003-3bfc-4cab-dbe1-be61332c8fae"
      },
      "execution_count": null,
      "outputs": [
        {
          "output_type": "execute_result",
          "data": {
            "text/plain": [
              "<__main__.PlayerCharacter at 0x7b7b2afc7b90>"
            ]
          },
          "metadata": {},
          "execution_count": 61
        }
      ]
    },
    {
      "cell_type": "code",
      "source": [
        "player1 = PlayerCharacter(\"tom\", 10)\n",
        "\n",
        "print(player1.shout())"
      ],
      "metadata": {
        "colab": {
          "base_uri": "https://localhost:8080/",
          "height": 315
        },
        "id": "4ZCbqcsVAKOk",
        "outputId": "840fa8e1-3e59-4acb-efab-5ce1de61c8a8"
      },
      "execution_count": null,
      "outputs": [
        {
          "output_type": "stream",
          "name": "stdout",
          "text": [
            "You shall not pass!\n"
          ]
        },
        {
          "output_type": "error",
          "ename": "AttributeError",
          "evalue": "'PlayerCharacter' object has no attribute 'name'",
          "traceback": [
            "\u001b[0;31m---------------------------------------------------------------------------\u001b[0m",
            "\u001b[0;31mAttributeError\u001b[0m                            Traceback (most recent call last)",
            "\u001b[0;32m<ipython-input-59-ebf9678718a6>\u001b[0m in \u001b[0;36m<cell line: 0>\u001b[0;34m()\u001b[0m\n\u001b[1;32m      1\u001b[0m \u001b[0mplayer1\u001b[0m \u001b[0;34m=\u001b[0m \u001b[0mPlayerCharacter\u001b[0m\u001b[0;34m(\u001b[0m\u001b[0;34m\"tom\"\u001b[0m\u001b[0;34m,\u001b[0m \u001b[0;36m10\u001b[0m\u001b[0;34m)\u001b[0m\u001b[0;34m\u001b[0m\u001b[0;34m\u001b[0m\u001b[0m\n\u001b[1;32m      2\u001b[0m \u001b[0;34m\u001b[0m\u001b[0m\n\u001b[0;32m----> 3\u001b[0;31m \u001b[0mprint\u001b[0m\u001b[0;34m(\u001b[0m\u001b[0mplayer1\u001b[0m\u001b[0;34m.\u001b[0m\u001b[0mshout\u001b[0m\u001b[0;34m(\u001b[0m\u001b[0;34m)\u001b[0m\u001b[0;34m)\u001b[0m\u001b[0;34m\u001b[0m\u001b[0;34m\u001b[0m\u001b[0m\n\u001b[0m",
            "\u001b[0;32m<ipython-input-56-0ba914d02dc3>\u001b[0m in \u001b[0;36mshout\u001b[0;34m(self)\u001b[0m\n\u001b[1;32m      9\u001b[0m \u001b[0;34m\u001b[0m\u001b[0m\n\u001b[1;32m     10\u001b[0m     \u001b[0;32mdef\u001b[0m \u001b[0mshout\u001b[0m \u001b[0;34m(\u001b[0m\u001b[0mself\u001b[0m\u001b[0;34m)\u001b[0m\u001b[0;34m:\u001b[0m\u001b[0;34m\u001b[0m\u001b[0;34m\u001b[0m\u001b[0m\n\u001b[0;32m---> 11\u001b[0;31m         \u001b[0;32mreturn\u001b[0m \u001b[0;34mf\"My name is {self.name}\"\u001b[0m\u001b[0;34m\u001b[0m\u001b[0;34m\u001b[0m\u001b[0m\n\u001b[0m\u001b[1;32m     12\u001b[0m \u001b[0;34m\u001b[0m\u001b[0m\n\u001b[1;32m     13\u001b[0m     \u001b[0;32mdef\u001b[0m \u001b[0mlength\u001b[0m\u001b[0;34m(\u001b[0m\u001b[0mself\u001b[0m\u001b[0;34m)\u001b[0m\u001b[0;34m:\u001b[0m\u001b[0;34m\u001b[0m\u001b[0;34m\u001b[0m\u001b[0m\n",
            "\u001b[0;31mAttributeError\u001b[0m: 'PlayerCharacter' object has no attribute 'name'"
          ]
        }
      ]
    },
    {
      "cell_type": "markdown",
      "source": [
        "## @classmethod and @staticmethod"
      ],
      "metadata": {
        "id": "WUsmKuYhAiUn"
      }
    },
    {
      "cell_type": "code",
      "source": [
        "class PlayerCharacter:\n",
        "    membership = True\n",
        "    def __init__(self, name, age):\n",
        "        if (self.membership):\n",
        "            self.name = name\n",
        "            self.age = age\n",
        "        else:\n",
        "            print(\"You shall not pass!\")\n",
        "\n",
        "    def shout (self):\n",
        "        return f\"My name is {self.name}\"\n",
        "\n",
        "    @classmethod\n",
        "    def add_thing(num1, num2):\n",
        "        return num1+num2\n"
      ],
      "metadata": {
        "id": "-v9vHH2jBB0r"
      },
      "execution_count": null,
      "outputs": []
    },
    {
      "cell_type": "code",
      "source": [
        "player1 = PlayerCharacter(\"tom\", 25)\n",
        "\n",
        "print(player1.add_thing(2,3))"
      ],
      "metadata": {
        "colab": {
          "base_uri": "https://localhost:8080/",
          "height": 176
        },
        "id": "kx1i42ULBBrU",
        "outputId": "235ba6cb-c201-4dce-d39a-d592d9225c14"
      },
      "execution_count": null,
      "outputs": [
        {
          "output_type": "error",
          "ename": "TypeError",
          "evalue": "PlayerCharacter.add_thing() takes 2 positional arguments but 3 were given",
          "traceback": [
            "\u001b[0;31m---------------------------------------------------------------------------\u001b[0m",
            "\u001b[0;31mTypeError\u001b[0m                                 Traceback (most recent call last)",
            "\u001b[0;32m<ipython-input-64-56c4a947972e>\u001b[0m in \u001b[0;36m<cell line: 0>\u001b[0;34m()\u001b[0m\n\u001b[1;32m      1\u001b[0m \u001b[0mplayer1\u001b[0m \u001b[0;34m=\u001b[0m \u001b[0mPlayerCharacter\u001b[0m\u001b[0;34m(\u001b[0m\u001b[0;34m\"tom\"\u001b[0m\u001b[0;34m,\u001b[0m \u001b[0;36m25\u001b[0m\u001b[0;34m)\u001b[0m\u001b[0;34m\u001b[0m\u001b[0;34m\u001b[0m\u001b[0m\n\u001b[1;32m      2\u001b[0m \u001b[0;34m\u001b[0m\u001b[0m\n\u001b[0;32m----> 3\u001b[0;31m \u001b[0mprint\u001b[0m\u001b[0;34m(\u001b[0m\u001b[0mplayer1\u001b[0m\u001b[0;34m.\u001b[0m\u001b[0madd_thing\u001b[0m\u001b[0;34m(\u001b[0m\u001b[0;36m2\u001b[0m\u001b[0;34m,\u001b[0m\u001b[0;36m3\u001b[0m\u001b[0;34m)\u001b[0m\u001b[0;34m)\u001b[0m\u001b[0;34m\u001b[0m\u001b[0;34m\u001b[0m\u001b[0m\n\u001b[0m",
            "\u001b[0;31mTypeError\u001b[0m: PlayerCharacter.add_thing() takes 2 positional arguments but 3 were given"
          ]
        }
      ]
    },
    {
      "cell_type": "code",
      "source": [
        "#need cls\n",
        "#\n",
        "class PlayerCharacter:\n",
        "    membership = True\n",
        "    def __init__(self, name, age):\n",
        "        if (self.membership):\n",
        "            self.name = name\n",
        "            self.age = age\n",
        "        else:\n",
        "            print(\"You shall not pass!\")\n",
        "\n",
        "    def shout (self):\n",
        "        return f\"My name is {self.name}\"\n",
        "\n",
        "    @classmethod\n",
        "    def add_thing(cls , num1, num2):\n",
        "        return num1+num2\n"
      ],
      "metadata": {
        "id": "5w0xayRKCOl-"
      },
      "execution_count": null,
      "outputs": []
    },
    {
      "cell_type": "code",
      "source": [
        "player1 = PlayerCharacter(\"tom\", 25)\n",
        "\n",
        "print(player1.add_thing(2,3))"
      ],
      "metadata": {
        "colab": {
          "base_uri": "https://localhost:8080/"
        },
        "id": "HoIeQUNtCeAG",
        "outputId": "d6d9aff1-b48c-4e81-ffcb-3717599ea7cc"
      },
      "execution_count": null,
      "outputs": [
        {
          "output_type": "stream",
          "name": "stdout",
          "text": [
            "5\n"
          ]
        }
      ]
    },
    {
      "cell_type": "code",
      "source": [
        "## @classmethod can use with our instantiate anything\n",
        "print(PlayerCharacter.add_thing(4,5))\n"
      ],
      "metadata": {
        "colab": {
          "base_uri": "https://localhost:8080/"
        },
        "id": "NGO1qhbdCffI",
        "outputId": "f93c0a86-b3e1-4075-e607-fedde5eb13ab"
      },
      "execution_count": null,
      "outputs": [
        {
          "output_type": "stream",
          "name": "stdout",
          "text": [
            "9\n"
          ]
        }
      ]
    },
    {
      "cell_type": "code",
      "source": [
        "class PlayerCharacter:\n",
        "    membership = True\n",
        "    def __init__(self, name, age):\n",
        "        if (self.membership):\n",
        "            self.name = name\n",
        "            self.age = age\n",
        "        else:\n",
        "            print(\"You shall not pass!\")\n",
        "\n",
        "    def shout (self):\n",
        "        return f\"My name is {self.name}\"\n",
        "\n",
        "    @classmethod\n",
        "    def add_thing(cls , num1, num2):\n",
        "        return cls(\"name\",num1+num2) # change"
      ],
      "metadata": {
        "id": "ZVPqGdp7Drs8"
      },
      "execution_count": null,
      "outputs": []
    },
    {
      "cell_type": "code",
      "source": [
        "player3 = PlayerCharacter.add_thing(15,16)"
      ],
      "metadata": {
        "id": "XKle_ZTgD2Wf"
      },
      "execution_count": null,
      "outputs": []
    },
    {
      "cell_type": "code",
      "source": [
        "print(player3.name)\n",
        "print(player3.age)"
      ],
      "metadata": {
        "colab": {
          "base_uri": "https://localhost:8080/"
        },
        "id": "Kb7uNG1iD2TM",
        "outputId": "cd2b8f9d-fbe8-49c7-90fc-36955675411b"
      },
      "execution_count": null,
      "outputs": [
        {
          "output_type": "stream",
          "name": "stdout",
          "text": [
            "name\n",
            "31\n"
          ]
        }
      ]
    },
    {
      "cell_type": "code",
      "source": [
        "##@staticmethod\n",
        "class PlayerCharacter:\n",
        "    membership = True\n",
        "    def __init__(self, name, age):\n",
        "        if (self.membership):\n",
        "            self.name = name\n",
        "            self.age = age\n",
        "        else:\n",
        "            print(\"You shall not pass!\")\n",
        "\n",
        "    def shout (self):\n",
        "        return f\"My name is {self.name}\"\n",
        "\n",
        "    @classmethod\n",
        "    def add_thing(cls , num1, num2):\n",
        "        return num1+num2\n",
        "\n",
        "    @staticmethod\n",
        "    def is_old(age):   # Non use cls|\n",
        "        return age > 100"
      ],
      "metadata": {
        "id": "ZYahCQW9C9KU"
      },
      "execution_count": null,
      "outputs": []
    },
    {
      "cell_type": "code",
      "source": [
        "player4 = PlayerCharacter(\"Lucky\", 25)\n",
        "player5 = PlayerCharacter(\"Judy\", 101)"
      ],
      "metadata": {
        "id": "qPGWg63MDaRd"
      },
      "execution_count": null,
      "outputs": []
    },
    {
      "cell_type": "code",
      "source": [
        "print(player4.is_old())\n",
        "print(player5.is_old())"
      ],
      "metadata": {
        "colab": {
          "base_uri": "https://localhost:8080/",
          "height": 159
        },
        "id": "_mRe26biE3RL",
        "outputId": "55a85c64-6e37-4003-d5c5-d4db7353262c"
      },
      "execution_count": null,
      "outputs": [
        {
          "output_type": "error",
          "ename": "TypeError",
          "evalue": "PlayerCharacter.is_old() missing 1 required positional argument: 'age'",
          "traceback": [
            "\u001b[0;31m---------------------------------------------------------------------------\u001b[0m",
            "\u001b[0;31mTypeError\u001b[0m                                 Traceback (most recent call last)",
            "\u001b[0;32m<ipython-input-79-d88e67db996f>\u001b[0m in \u001b[0;36m<cell line: 0>\u001b[0;34m()\u001b[0m\n\u001b[0;32m----> 1\u001b[0;31m \u001b[0mprint\u001b[0m\u001b[0;34m(\u001b[0m\u001b[0mplayer4\u001b[0m\u001b[0;34m.\u001b[0m\u001b[0mis_old\u001b[0m\u001b[0;34m(\u001b[0m\u001b[0;34m)\u001b[0m\u001b[0;34m)\u001b[0m\u001b[0;34m\u001b[0m\u001b[0;34m\u001b[0m\u001b[0m\n\u001b[0m\u001b[1;32m      2\u001b[0m \u001b[0mprint\u001b[0m\u001b[0;34m(\u001b[0m\u001b[0mplayer5\u001b[0m\u001b[0;34m.\u001b[0m\u001b[0mis_old\u001b[0m\u001b[0;34m(\u001b[0m\u001b[0;34m)\u001b[0m\u001b[0;34m)\u001b[0m\u001b[0;34m\u001b[0m\u001b[0;34m\u001b[0m\u001b[0m\n",
            "\u001b[0;31mTypeError\u001b[0m: PlayerCharacter.is_old() missing 1 required positional argument: 'age'"
          ]
        }
      ]
    },
    {
      "cell_type": "code",
      "source": [
        "print(player4.is_old(102))\n",
        "print(player5.is_old(11))"
      ],
      "metadata": {
        "colab": {
          "base_uri": "https://localhost:8080/"
        },
        "id": "c9ZWeBs3FDJq",
        "outputId": "67ab4671-d47d-4b7e-d258-8d08164fb763"
      },
      "execution_count": null,
      "outputs": [
        {
          "output_type": "stream",
          "name": "stdout",
          "text": [
            "True\n",
            "False\n"
          ]
        }
      ]
    },
    {
      "cell_type": "markdown",
      "source": [
        "##Review"
      ],
      "metadata": {
        "id": "1ofPWPJpDfMU"
      }
    },
    {
      "cell_type": "code",
      "source": [
        "class NameOfClass():\n",
        "    class_attribute = \"some value\"\n",
        "\n",
        "    def __init__(self, param1, param2):\n",
        "        self.param1 = param1\n",
        "        self.param2 = param2\n",
        "\n",
        "    def method(self):\n",
        "        #code\n",
        "        pass\n",
        "\n",
        "    @classmethod\n",
        "    def cls_method(cls, param1, param2):\n",
        "        #code\n",
        "        pass\n",
        "\n",
        "    @staticmethod\n",
        "    def static_method(param1, param2):\n",
        "        #code\n",
        "        pass\n"
      ],
      "metadata": {
        "id": "FCUvvizOFLp8"
      },
      "execution_count": null,
      "outputs": []
    },
    {
      "cell_type": "markdown",
      "source": [
        "## DEVELOPER FUNDAMENTALS: V"
      ],
      "metadata": {
        "id": "V5jDEGHKo-dg"
      }
    },
    {
      "cell_type": "markdown",
      "source": [
        "*   Abstraction\n",
        "*   Encapsulation\n",
        "*   Inheritance\n",
        "*   Polymorphism\n",
        "\n",
        "\n",
        "\n"
      ],
      "metadata": {
        "id": "XLXZ_LmCo_Vw"
      }
    },
    {
      "cell_type": "markdown",
      "source": [
        "##  Encapsulation"
      ],
      "metadata": {
        "id": "cDzws_zgFhXe"
      }
    },
    {
      "cell_type": "markdown",
      "source": [],
      "metadata": {
        "id": "xC67C5c5oXkv"
      }
    },
    {
      "cell_type": "code",
      "source": [
        "class PlayerCharacter:\n",
        "    def __init__(self, name, age):\n",
        "        self.name = name\n",
        "        self.age = age\n",
        "\n",
        "    def shout (self):\n",
        "        return f\"My name is {self.name}\""
      ],
      "metadata": {
        "id": "VUmVE3ZJGbn1"
      },
      "execution_count": null,
      "outputs": []
    },
    {
      "cell_type": "code",
      "source": [
        "# If as below is not differance from dicitonary\n",
        "class PlayerCharacter:\n",
        "    def __init__(self, name, age):\n",
        "        self.name = name\n",
        "        self.age = age\n"
      ],
      "metadata": {
        "id": "81Ud0A3Salwl"
      },
      "execution_count": null,
      "outputs": []
    },
    {
      "cell_type": "code",
      "source": [
        "player1 = PlayerCharacter('Jane', 29)\n",
        "print(player1.name)\n",
        "print(player1.age)"
      ],
      "metadata": {
        "colab": {
          "base_uri": "https://localhost:8080/"
        },
        "id": "Cte8Q28Waty2",
        "outputId": "1f06e535-2e9c-439c-a0ee-f1267c78c411"
      },
      "execution_count": null,
      "outputs": [
        {
          "output_type": "stream",
          "name": "stdout",
          "text": [
            "Jane\n",
            "29\n"
          ]
        }
      ]
    },
    {
      "cell_type": "code",
      "source": [
        "#Dictionary\n",
        "player2 = {'name':'Jane', 'age':29}\n",
        "print(player2['name'])\n",
        "print(player2['age'])"
      ],
      "metadata": {
        "colab": {
          "base_uri": "https://localhost:8080/"
        },
        "id": "SbSE2VklbFmQ",
        "outputId": "8b28c9e8-db68-4e4c-eca9-4dc7cd24df0f"
      },
      "execution_count": null,
      "outputs": [
        {
          "output_type": "stream",
          "name": "stdout",
          "text": [
            "Jane\n",
            "29\n"
          ]
        }
      ]
    },
    {
      "cell_type": "code",
      "source": [
        "print(player2.keys())\n",
        "print(player2.items())"
      ],
      "metadata": {
        "colab": {
          "base_uri": "https://localhost:8080/"
        },
        "id": "bQx7ecrebOuf",
        "outputId": "966f69fc-032a-4f5a-cb4c-4ff3f8908635"
      },
      "execution_count": null,
      "outputs": [
        {
          "output_type": "stream",
          "name": "stdout",
          "text": [
            "dict_keys(['name', 'age'])\n",
            "dict_items([('name', 'Jane'), ('age', 29)])\n"
          ]
        }
      ]
    },
    {
      "cell_type": "code",
      "source": [
        "player2.name"
      ],
      "metadata": {
        "colab": {
          "base_uri": "https://localhost:8080/",
          "height": 141
        },
        "id": "mcVAmmGdbceo",
        "outputId": "b998a045-c74a-4f7a-c971-226b2bb5bd9f"
      },
      "execution_count": null,
      "outputs": [
        {
          "output_type": "error",
          "ename": "AttributeError",
          "evalue": "'dict' object has no attribute 'name'",
          "traceback": [
            "\u001b[0;31m---------------------------------------------------------------------------\u001b[0m",
            "\u001b[0;31mAttributeError\u001b[0m                            Traceback (most recent call last)",
            "\u001b[0;32m<ipython-input-10-1115a6899cf6>\u001b[0m in \u001b[0;36m<cell line: 0>\u001b[0;34m()\u001b[0m\n\u001b[0;32m----> 1\u001b[0;31m \u001b[0mplayer2\u001b[0m\u001b[0;34m.\u001b[0m\u001b[0mname\u001b[0m\u001b[0;34m\u001b[0m\u001b[0;34m\u001b[0m\u001b[0m\n\u001b[0m",
            "\u001b[0;31mAttributeError\u001b[0m: 'dict' object has no attribute 'name'"
          ]
        }
      ]
    },
    {
      "cell_type": "markdown",
      "source": [
        "## Abstraction"
      ],
      "metadata": {
        "id": "gYa_upVjbgJ9"
      }
    },
    {
      "cell_type": "code",
      "source": [
        "class PlayerCharacter:\n",
        "    def __init__(self, name, age):\n",
        "        self.name = name\n",
        "        self.age = age\n",
        "\n",
        "    def shout (self):\n",
        "        return f\"My name is {self.name}\""
      ],
      "metadata": {
        "id": "winBCKAhb3ZE"
      },
      "execution_count": null,
      "outputs": []
    },
    {
      "cell_type": "code",
      "source": [
        "#Tuple\n",
        "#Anstraction --> no need to warry to use it need to read doc\n",
        "# Iphone --> noneed to know how to coat lens or how assembly it.\n",
        "# camera.takepicture()  --> no care  about it but use it\n",
        "print((1,2,3,4,1).count(1))\n",
        "print(len((1,2,3,4,1)))"
      ],
      "metadata": {
        "colab": {
          "base_uri": "https://localhost:8080/"
        },
        "id": "KDFITNu0b3Wn",
        "outputId": "46d1ffa7-c746-46c7-9504-e0a5c3e4525c"
      },
      "execution_count": null,
      "outputs": [
        {
          "output_type": "stream",
          "name": "stdout",
          "text": [
            "2\n",
            "5\n"
          ]
        }
      ]
    },
    {
      "cell_type": "code",
      "source": [
        "#example\n",
        "player1 = PlayerCharacter('Jane', 29)\n",
        "player1.name = \"!!!!!!\"\n",
        "player1.shout = \"BOOOOOO\"\n",
        "print(player1.shout())"
      ],
      "metadata": {
        "colab": {
          "base_uri": "https://localhost:8080/",
          "height": 176
        },
        "id": "aq9_JWywb3Tv",
        "outputId": "e2919564-ffce-4c9e-9f98-35ce32ec2640"
      },
      "execution_count": null,
      "outputs": [
        {
          "output_type": "error",
          "ename": "TypeError",
          "evalue": "'str' object is not callable",
          "traceback": [
            "\u001b[0;31m---------------------------------------------------------------------------\u001b[0m",
            "\u001b[0;31mTypeError\u001b[0m                                 Traceback (most recent call last)",
            "\u001b[0;32m<ipython-input-16-97acaf4f12cd>\u001b[0m in \u001b[0;36m<cell line: 0>\u001b[0;34m()\u001b[0m\n\u001b[1;32m      3\u001b[0m \u001b[0mplayer1\u001b[0m\u001b[0;34m.\u001b[0m\u001b[0mname\u001b[0m \u001b[0;34m=\u001b[0m \u001b[0;34m\"!!!!!!\"\u001b[0m\u001b[0;34m\u001b[0m\u001b[0;34m\u001b[0m\u001b[0m\n\u001b[1;32m      4\u001b[0m \u001b[0mplayer1\u001b[0m\u001b[0;34m.\u001b[0m\u001b[0mshout\u001b[0m \u001b[0;34m=\u001b[0m \u001b[0;34m\"BOOOOOO\"\u001b[0m\u001b[0;34m\u001b[0m\u001b[0;34m\u001b[0m\u001b[0m\n\u001b[0;32m----> 5\u001b[0;31m \u001b[0mprint\u001b[0m\u001b[0;34m(\u001b[0m\u001b[0mplayer1\u001b[0m\u001b[0;34m.\u001b[0m\u001b[0mshout\u001b[0m\u001b[0;34m(\u001b[0m\u001b[0;34m)\u001b[0m\u001b[0;34m)\u001b[0m\u001b[0;34m\u001b[0m\u001b[0;34m\u001b[0m\u001b[0m\n\u001b[0m",
            "\u001b[0;31mTypeError\u001b[0m: 'str' object is not callable"
          ]
        }
      ]
    },
    {
      "cell_type": "code",
      "source": [
        "# TypeError: 'str' object is not callable  --> due to speak has been modify"
      ],
      "metadata": {
        "id": "p2qfNO_bdmm2"
      },
      "execution_count": null,
      "outputs": []
    },
    {
      "cell_type": "code",
      "source": [
        "player1.shout"
      ],
      "metadata": {
        "colab": {
          "base_uri": "https://localhost:8080/",
          "height": 35
        },
        "id": "Da_kstH_d1JQ",
        "outputId": "c86a3e76-a698-43a4-a8db-687da42f1f9e"
      },
      "execution_count": null,
      "outputs": [
        {
          "output_type": "execute_result",
          "data": {
            "text/plain": [
              "'BOOOOOO'"
            ],
            "application/vnd.google.colaboratory.intrinsic+json": {
              "type": "string"
            }
          },
          "metadata": {},
          "execution_count": 19
        }
      ]
    },
    {
      "cell_type": "markdown",
      "source": [
        "##Private vs Public Variables"
      ],
      "metadata": {
        "id": "OgesWO7Fd27o"
      }
    },
    {
      "cell_type": "code",
      "source": [
        "# _ is private variable\n",
        "class PlayerCharacter:\n",
        "    def __init__(self, name, age):\n",
        "        self._name = name\n",
        "        self._age = age\n",
        "\n",
        "    def speak (self):\n",
        "        return f\"My name is {self._name}, My age is {self._age}\""
      ],
      "metadata": {
        "id": "ZFA07fTUenkF"
      },
      "execution_count": null,
      "outputs": []
    },
    {
      "cell_type": "code",
      "source": [
        "player1 = PlayerCharacter(\"Japan\" , 23)\n",
        "player1.speak()"
      ],
      "metadata": {
        "colab": {
          "base_uri": "https://localhost:8080/",
          "height": 35
        },
        "id": "93ewW5Dne1hX",
        "outputId": "482f9bec-965e-422a-e202-31d26e297eff"
      },
      "execution_count": null,
      "outputs": [
        {
          "output_type": "execute_result",
          "data": {
            "text/plain": [
              "'My name is Japan, My age 23'"
            ],
            "application/vnd.google.colaboratory.intrinsic+json": {
              "type": "string"
            }
          },
          "metadata": {},
          "execution_count": 25
        }
      ]
    },
    {
      "cell_type": "code",
      "source": [
        "player1.name = \"!!!!!!\"\n",
        "player1.shout = \"BOOOOOO\""
      ],
      "metadata": {
        "id": "DRxBTmmyfC0m"
      },
      "execution_count": null,
      "outputs": []
    },
    {
      "cell_type": "code",
      "source": [
        "print(player1.shout)"
      ],
      "metadata": {
        "colab": {
          "base_uri": "https://localhost:8080/"
        },
        "id": "Vgym1o_KfTYV",
        "outputId": "f61d558b-6121-4068-b9c0-0cbe62cbe22a"
      },
      "execution_count": null,
      "outputs": [
        {
          "output_type": "stream",
          "name": "stdout",
          "text": [
            "BOOOOOO\n"
          ]
        }
      ]
    },
    {
      "cell_type": "code",
      "source": [
        "#__iniit__ --? is Dunder Method --> bild on python , we ussally never write out own Dunder method.\n",
        "# dont [].__dir__ = 5"
      ],
      "metadata": {
        "id": "XjRHKfeBfWRd"
      },
      "execution_count": null,
      "outputs": []
    },
    {
      "cell_type": "code",
      "source": [
        "[].__dir__"
      ],
      "metadata": {
        "colab": {
          "base_uri": "https://localhost:8080/"
        },
        "id": "Ji9QxxiMgGbE",
        "outputId": "de0ced5d-51b0-4dab-f1f9-ab8aa86dd29f"
      },
      "execution_count": null,
      "outputs": [
        {
          "output_type": "execute_result",
          "data": {
            "text/plain": [
              "<function list.__dir__()>"
            ]
          },
          "metadata": {},
          "execution_count": 28
        }
      ]
    },
    {
      "cell_type": "markdown",
      "source": [
        "## Inheritance"
      ],
      "metadata": {
        "id": "9_eBXGeVgJqA"
      }
    },
    {
      "cell_type": "markdown",
      "source": [
        "**Inheritance** is a fundamental concept in *object-oriented programming *that allows a new class to be based on an existing class. The new class, known as the derived class or subclass, inherits properties and methods from the **existing class**, called the base class or superclass."
      ],
      "metadata": {
        "id": "JrkRJpgQgi2H"
      }
    },
    {
      "cell_type": "code",
      "source": [
        "class People:\n",
        "    def __init__(self, fname, lname):\n",
        "        self.fname = fname\n",
        "        self.lname = lname\n",
        "\n",
        "    def printname(self):\n",
        "        print(self.fname, self.lname)\n",
        "\n",
        "# Use People to create objects, also called instances.\n",
        "x = People(\"John\", \"Doe\")\n",
        "x.printname()"
      ],
      "metadata": {
        "colab": {
          "base_uri": "https://localhost:8080/"
        },
        "id": "tJ3WPKsXh75W",
        "outputId": "63e4c3a1-621d-4030-9091-aa2d17db38ee"
      },
      "execution_count": null,
      "outputs": [
        {
          "output_type": "stream",
          "name": "stdout",
          "text": [
            "John Doe\n"
          ]
        }
      ]
    },
    {
      "cell_type": "code",
      "source": [
        "class PiPop(People):\n",
        "    pass"
      ],
      "metadata": {
        "id": "2m5Eekg4h92a"
      },
      "execution_count": null,
      "outputs": []
    },
    {
      "cell_type": "code",
      "source": [
        "class PiPop(People):\n",
        "    def __init__(self, fname, lname):\n",
        "        People.__init__(self, fname, lname)\n",
        "    def spppower(self):\n",
        "        print(f\"My name {self.fname}. I am super power\")\n",
        "\n",
        "y = PiPop(\"Mike2\", \"Olsen2\")"
      ],
      "metadata": {
        "id": "P6p8XbZ8iSfD"
      },
      "execution_count": null,
      "outputs": []
    },
    {
      "cell_type": "code",
      "source": [
        "y.printname()"
      ],
      "metadata": {
        "colab": {
          "base_uri": "https://localhost:8080/"
        },
        "id": "RmCZyLMxjgsq",
        "outputId": "4e71c4ee-4436-437c-eb93-663ea8786b51"
      },
      "execution_count": null,
      "outputs": [
        {
          "output_type": "stream",
          "name": "stdout",
          "text": [
            "Mike2 Olsen2\n"
          ]
        }
      ]
    },
    {
      "cell_type": "code",
      "source": [
        "y.spppower()"
      ],
      "metadata": {
        "colab": {
          "base_uri": "https://localhost:8080/"
        },
        "id": "4Wx920Vmjir7",
        "outputId": "83bf2eba-ade8-4ecf-da61-7e62227caaf7"
      },
      "execution_count": null,
      "outputs": [
        {
          "output_type": "stream",
          "name": "stdout",
          "text": [
            "My name Mike2. I am super power\n"
          ]
        }
      ]
    },
    {
      "cell_type": "code",
      "source": [
        "class People:\n",
        "    def __init__(self, fname, lname):\n",
        "        self.firstname = fname\n",
        "        self.lastname = lname\n",
        "\n",
        "    def printname(self):\n",
        "        print(self.firstname, self.lastname)\n",
        "\n",
        "class PiPop(People):\n",
        "    def __init__(self, fname, lname):\n",
        "        super().__init__(fname, lname)  # preferred over People.__init__\n",
        "\n",
        "    def spppower(self):\n",
        "        print(f\"My name {self.firstname} I am super power\")\n",
        "\n",
        "y = PiPop(\"Mike2\", \"Olsen2\")\n",
        "y.spppower()\n"
      ],
      "metadata": {
        "colab": {
          "base_uri": "https://localhost:8080/"
        },
        "id": "Xy5lSOxijroB",
        "outputId": "32f968dc-fa78-4186-f0bd-8714e1307ea8"
      },
      "execution_count": null,
      "outputs": [
        {
          "output_type": "stream",
          "name": "stdout",
          "text": [
            "My name Mike2 I am super power\n"
          ]
        }
      ]
    },
    {
      "cell_type": "code",
      "source": [
        "class People:\n",
        "    def __init__(self, fname, lname):\n",
        "        self.firstname = fname\n",
        "        self.lastname = lname\n",
        "\n",
        "    def printname(self):\n",
        "        print(self.firstname, self.lastname)\n",
        "\n",
        "class PiPop(People):\n",
        "    def __init__(self, fname, lname):\n",
        "        super().__init__(fname, lname)  # preferred over People.__init__\n",
        "\n",
        "    def spppower(self):\n",
        "        print(f\"My name {self.firstname} I am super power\")\n",
        "\n",
        "class PiKaHung(People):\n",
        "    def __init__(self, fname, lname):\n",
        "        super().__init__(fname, lname)  # preferred over People.__init__\n",
        "\n",
        "    def spppower(self):\n",
        "        print(f\"My name {self.firstname}. I am can fly\")\n",
        "\n",
        "\n",
        "y = PiPop(\"Mike2\", \"Olsen2\")\n",
        "z = PiKaHung(\"Hung\", \"Doon\")\n",
        "y.spppower()\n",
        "z.spppower()\n"
      ],
      "metadata": {
        "colab": {
          "base_uri": "https://localhost:8080/"
        },
        "id": "hBKdsZ9ikx2c",
        "outputId": "5bae3cd9-e5e6-4d00-b73e-8ca0ed340eeb"
      },
      "execution_count": null,
      "outputs": [
        {
          "output_type": "stream",
          "name": "stdout",
          "text": [
            "My name Mike2 I am super power\n",
            "My name Hung. I am can fly\n"
          ]
        }
      ]
    },
    {
      "cell_type": "code",
      "source": [
        "####"
      ],
      "metadata": {
        "id": "1VZdy7CvlfTL"
      },
      "execution_count": null,
      "outputs": []
    },
    {
      "cell_type": "code",
      "source": [
        "#Check instance\n",
        "# isinstance(instance, Class)"
      ],
      "metadata": {
        "id": "7pOtu_8Slqma"
      },
      "execution_count": null,
      "outputs": []
    },
    {
      "cell_type": "code",
      "source": [
        "isinstance(z, PiKaHung)"
      ],
      "metadata": {
        "colab": {
          "base_uri": "https://localhost:8080/"
        },
        "id": "4xhP0RWtl_f5",
        "outputId": "4385ec3a-c3fb-4501-f28a-12c298ddbd32"
      },
      "execution_count": null,
      "outputs": [
        {
          "output_type": "execute_result",
          "data": {
            "text/plain": [
              "True"
            ]
          },
          "metadata": {},
          "execution_count": 61
        }
      ]
    },
    {
      "cell_type": "code",
      "source": [
        "isinstance(z, People)"
      ],
      "metadata": {
        "colab": {
          "base_uri": "https://localhost:8080/"
        },
        "id": "Scsg9AGhmDAz",
        "outputId": "79f97151-9295-484c-8b1c-e55ec9c75229"
      },
      "execution_count": null,
      "outputs": [
        {
          "output_type": "execute_result",
          "data": {
            "text/plain": [
              "True"
            ]
          },
          "metadata": {},
          "execution_count": 62
        }
      ]
    },
    {
      "cell_type": "code",
      "source": [
        "isinstance(z, PiPop)"
      ],
      "metadata": {
        "colab": {
          "base_uri": "https://localhost:8080/"
        },
        "id": "RvWTRzPfmGQi",
        "outputId": "fb9389fa-6768-4126-d843-ac9dc801cfa8"
      },
      "execution_count": null,
      "outputs": [
        {
          "output_type": "execute_result",
          "data": {
            "text/plain": [
              "False"
            ]
          },
          "metadata": {},
          "execution_count": 63
        }
      ]
    },
    {
      "cell_type": "code",
      "source": [
        "#Python everthing is object\n",
        "isinstance(z, object)"
      ],
      "metadata": {
        "colab": {
          "base_uri": "https://localhost:8080/"
        },
        "id": "2NO320UYmJsE",
        "outputId": "a3d6df32-fbe2-4c3d-9955-d3343b588331"
      },
      "execution_count": null,
      "outputs": [
        {
          "output_type": "execute_result",
          "data": {
            "text/plain": [
              "True"
            ]
          },
          "metadata": {},
          "execution_count": 65
        }
      ]
    },
    {
      "cell_type": "code",
      "source": [
        "[].__repr__"
      ],
      "metadata": {
        "colab": {
          "base_uri": "https://localhost:8080/"
        },
        "id": "eXoTcsHJncmD",
        "outputId": "8362bca3-7dc7-4269-95cf-883f32eeb3d5"
      },
      "execution_count": null,
      "outputs": [
        {
          "output_type": "execute_result",
          "data": {
            "text/plain": [
              "<method-wrapper '__repr__' of list object at 0x7d91a9179a80>"
            ]
          },
          "metadata": {},
          "execution_count": 66
        }
      ]
    },
    {
      "cell_type": "code",
      "source": [
        "z.__repr__"
      ],
      "metadata": {
        "colab": {
          "base_uri": "https://localhost:8080/"
        },
        "id": "I0woyiEwn7vz",
        "outputId": "30581e34-b065-4661-807b-622bd7cee79b"
      },
      "execution_count": null,
      "outputs": [
        {
          "output_type": "execute_result",
          "data": {
            "text/plain": [
              "<method-wrapper '__repr__' of PiKaHung object at 0x7d91a8d88790>"
            ]
          },
          "metadata": {},
          "execution_count": 67
        }
      ]
    },
    {
      "cell_type": "markdown",
      "source": [
        "## Polymorphism"
      ],
      "metadata": {
        "id": "C802F2VYoEux"
      }
    },
    {
      "cell_type": "markdown",
      "source": [
        "**Polymorphism** allows objects to be treated as instances of their parent class rather than their actual class. It enables a single interface to represent different underlying forms (data types)."
      ],
      "metadata": {
        "id": "5fEjhjpUplOS"
      }
    },
    {
      "cell_type": "code",
      "source": [
        "import random\n",
        "\n",
        "class DeliveryBoy:\n",
        "    def deliver(self):\n",
        "        print(\"Delivering Item\")\n",
        "\n",
        "class Postman(DeliveryBoy):\n",
        "    def deliver(self):\n",
        "        print(\"Delivering Letters\")\n",
        "\n",
        "class FoodDeliveryBoy(DeliveryBoy):\n",
        "    def deliver(self):\n",
        "        print(\"Delivering Food\")\n",
        "\n",
        "def get_delivery_boy():\n",
        "    number = random.randint(0, 4)\n",
        "    return Postman() if number % 2 == 0 else FoodDeliveryBoy()\n",
        "\n",
        "# Usage\n",
        "delivery_boy = get_delivery_boy()\n",
        "delivery_boy.deliver()\n"
      ],
      "metadata": {
        "colab": {
          "base_uri": "https://localhost:8080/"
        },
        "id": "S6ioAuefpzE7",
        "outputId": "26bc0da1-05ca-4c53-bd43-fb1999029c22"
      },
      "execution_count": null,
      "outputs": [
        {
          "output_type": "stream",
          "name": "stdout",
          "text": [
            "Delivering Letters\n"
          ]
        }
      ]
    },
    {
      "cell_type": "markdown",
      "source": [
        "Polymorphism ans super()"
      ],
      "metadata": {
        "id": "MLXBiyjowO6q"
      }
    },
    {
      "cell_type": "code",
      "source": [
        "class People(object):\n",
        "    def __init__(self, fname, lname):\n",
        "        self.fname = fname\n",
        "        self.lname = lname\n",
        "\n",
        "    def speak(self):\n",
        "        print(\"I can speak\")\n",
        "\n",
        "    def skill(self):\n",
        "        print(\"I'm no skill\")\n",
        "\n",
        "# Subclass\n",
        "class PiPop(People):\n",
        "    def __init__(self, fname, lname):\n",
        "        super().__init__(fname, lname)  # Super class  or can Pepple().__init__(fname, lname)\n",
        "\n",
        "    def skill(self):\n",
        "        super().skill() # --> if also need prent skill\n",
        "        print(\"I'm eat chicken\")\n",
        "\n",
        "class PiKaHung(People):\n",
        "    def __init__(self, fname, lname):\n",
        "        super().__init__(fname, lname)\n",
        "\n",
        "    def skill(self):\n",
        "        # super().skill() # --> if also need prent skill\n",
        "        print(\"I belive I can fly\")\n",
        "\n",
        "# Usage\n",
        "bob = PiPop(\"Bob\", \"Smith\")\n",
        "bob.skill()\n",
        "hung = PiKaHung(\"Hung\", \"Doon\")\n",
        "hung.skill()"
      ],
      "metadata": {
        "colab": {
          "base_uri": "https://localhost:8080/"
        },
        "id": "Wtbmx9YCseGV",
        "outputId": "913e8185-059d-470d-a90d-7a6cbd899fc7"
      },
      "execution_count": null,
      "outputs": [
        {
          "output_type": "stream",
          "name": "stdout",
          "text": [
            "I'm no skill\n",
            "I'm eat chicken\n",
            "I belive I can fly\n"
          ]
        }
      ]
    },
    {
      "cell_type": "code",
      "source": [
        "##Understand the code"
      ],
      "metadata": {
        "id": "JfiGZ5SfvpqC"
      },
      "execution_count": null,
      "outputs": []
    },
    {
      "cell_type": "code",
      "source": [
        "class Pets():\n",
        "    animals = []\n",
        "    def __init__(self, animals):\n",
        "        self.animals = animals\n",
        "\n",
        "    def walk(self):\n",
        "        for animal in self.animals:\n",
        "            print(animal.walk())\n",
        "\n",
        "class Cat():\n",
        "    is_lazy = True\n",
        "\n",
        "    def __init__(self, name, age):\n",
        "        self.name = name\n",
        "        self.age = age\n",
        "\n",
        "    def walk(self):\n",
        "        return f'{self.name} is just walking around'\n",
        "\n",
        "class Simon(Cat):\n",
        "    def sing(self, sounds):\n",
        "        return f'{sounds}'\n",
        "\n",
        "class Sally(Cat):\n",
        "    def sing(self, sounds):\n",
        "        return f'{sounds}'\n",
        "\n",
        "\n",
        "#1 Add another Cat\n",
        "\n",
        "class Tikachu(Cat):\n",
        "    def sing(self,sounds):\n",
        "        return f'{sounds}'\n",
        "\n",
        "#2 Create a list of all of the pets (create 3 cat instances from the above)\n",
        "my_cats = []\n",
        "cat1 = Simon('Simon', 10)\n",
        "cat2 = Sally('Sally', 15)\n",
        "cat3 = Tikachu('Tikachu', 5)\n",
        "\n",
        "my_cats.append(cat1)\n",
        "my_cats.append(cat2)\n",
        "my_cats.append(cat3)\n",
        "\n",
        "#OR my_cats = [Simon('Simon', 10), Sally('Sally', 15), Tikachu('Tikachu', 5)]\n",
        "\n",
        "#3 Instantiate the Pet class with all your cats use variable my_pets\n",
        "\n",
        "my_pets = Pets(my_cats)\n",
        "\n",
        "#4 Output all of the cats walking using the my_pets instance\n",
        "\n",
        "my_pets.walk()\n"
      ],
      "metadata": {
        "colab": {
          "base_uri": "https://localhost:8080/"
        },
        "id": "O5K2XOSatoDM",
        "outputId": "7420535c-249b-44d6-8a38-63d26042b379"
      },
      "execution_count": null,
      "outputs": [
        {
          "output_type": "stream",
          "name": "stdout",
          "text": [
            "Simon is just walking around\n",
            "Sally is just walking around\n",
            "Tikachu is just walking around\n"
          ]
        }
      ]
    },
    {
      "cell_type": "markdown",
      "source": [
        "## introspection"
      ],
      "metadata": {
        "id": "SPPMTfGEvR8T"
      }
    },
    {
      "cell_type": "code",
      "source": [
        "print(dir(bob)) ## Method and attribute"
      ],
      "metadata": {
        "colab": {
          "base_uri": "https://localhost:8080/"
        },
        "id": "L0iyP5uwxPvt",
        "outputId": "a23d1260-2b0f-4e5d-948f-f03b915e66d0"
      },
      "execution_count": null,
      "outputs": [
        {
          "output_type": "stream",
          "name": "stdout",
          "text": [
            "['__class__', '__delattr__', '__dict__', '__dir__', '__doc__', '__eq__', '__format__', '__ge__', '__getattribute__', '__getstate__', '__gt__', '__hash__', '__init__', '__init_subclass__', '__le__', '__lt__', '__module__', '__ne__', '__new__', '__reduce__', '__reduce_ex__', '__repr__', '__setattr__', '__sizeof__', '__str__', '__subclasshook__', '__weakref__', 'fname', 'lname', 'skill', 'speak']\n"
          ]
        }
      ]
    },
    {
      "cell_type": "code",
      "source": [
        "print(bob.__dir__())"
      ],
      "metadata": {
        "colab": {
          "base_uri": "https://localhost:8080/"
        },
        "id": "zJ_XC0aVxarN",
        "outputId": "5bdca41a-8ae5-4d28-ea40-0c1795b5a3f4"
      },
      "execution_count": null,
      "outputs": [
        {
          "output_type": "stream",
          "name": "stdout",
          "text": [
            "['fname', 'lname', '__module__', '__init__', 'skill', '__doc__', 'speak', '__dict__', '__weakref__', '__new__', '__repr__', '__hash__', '__str__', '__getattribute__', '__setattr__', '__delattr__', '__lt__', '__le__', '__eq__', '__ne__', '__gt__', '__ge__', '__reduce_ex__', '__reduce__', '__getstate__', '__subclasshook__', '__init_subclass__', '__format__', '__sizeof__', '__dir__', '__class__']\n"
          ]
        }
      ]
    },
    {
      "cell_type": "markdown",
      "source": [
        "## DunderMethod"
      ],
      "metadata": {
        "id": "QyxAXmsCx1rt"
      }
    },
    {
      "cell_type": "code",
      "source": [
        "class Toy():\n",
        "    def __init__(self, color , _age) -> None:\n",
        "        self.color = color\n",
        "        self._age = _age\n",
        "\n",
        "action_figure = Toy(\"red\", 0)\n",
        "print(action_figure.__str__())\n",
        "print(str(action_figure))\n"
      ],
      "metadata": {
        "colab": {
          "base_uri": "https://localhost:8080/"
        },
        "id": "lcx9MdiEyLt0",
        "outputId": "f897f2f1-77ff-4a30-fb68-9470d8a27534"
      },
      "execution_count": null,
      "outputs": [
        {
          "output_type": "stream",
          "name": "stdout",
          "text": [
            "<__main__.Toy object at 0x7d9199a213d0>\n",
            "<__main__.Toy object at 0x7d9199a213d0>\n"
          ]
        }
      ]
    },
    {
      "cell_type": "markdown",
      "source": [
        "https://docs.python.org/3/reference/datamodel.html#special-method-names"
      ],
      "metadata": {
        "id": "5-lWTOxezRwr"
      }
    },
    {
      "cell_type": "code",
      "source": [
        "# Example\n",
        "class Toy():\n",
        "    def __init__(self, color , age) -> None:\n",
        "        self.color = color\n",
        "        self.age = age\n",
        "    def __str__(self) -> str: #change dunder to retuen value\n",
        "        return f\"{self.color} toy\"\n",
        "\n",
        "action_figure = Toy(\"red\", 0)\n",
        "print(action_figure.__str__())\n",
        "print(str(action_figure))\n"
      ],
      "metadata": {
        "colab": {
          "base_uri": "https://localhost:8080/"
        },
        "id": "iivXrNkdy4_G",
        "outputId": "d2d01491-57e8-4e97-a6a8-9237b298a816"
      },
      "execution_count": null,
      "outputs": [
        {
          "output_type": "stream",
          "name": "stdout",
          "text": [
            "red toy\n",
            "red toy\n"
          ]
        }
      ]
    },
    {
      "cell_type": "code",
      "source": [
        "# Example\n",
        "class Toy():\n",
        "    def __init__(self, color , age) -> None:\n",
        "        self.color = color\n",
        "        self.age = age\n",
        "    def __str__(self) -> str:\n",
        "        return f\"{self.color} toy\"\n",
        "\n",
        "    def __len__(self) -> int:  #change dunder to retuen value\n",
        "        return self.age\n",
        "\n",
        "action_figure = Toy(\"red\", 20)\n",
        "print(action_figure.__str__())\n",
        "print(str(action_figure))\n",
        "print(len(action_figure))\n"
      ],
      "metadata": {
        "colab": {
          "base_uri": "https://localhost:8080/"
        },
        "id": "hWIVtsNPzpS3",
        "outputId": "b65a9a07-9829-45cf-cf7e-c2c0368c4ffc"
      },
      "execution_count": null,
      "outputs": [
        {
          "output_type": "stream",
          "name": "stdout",
          "text": [
            "red toy\n",
            "red toy\n",
            "20\n"
          ]
        }
      ]
    },
    {
      "cell_type": "code",
      "source": [
        "# Example\n",
        "class Toy():\n",
        "    def __init__(self, color:str , age:int) -> None:\n",
        "        self.color = color\n",
        "        self.age = age\n",
        "    def __str__(self) -> str:\n",
        "        return f\"{self.color} toy\"\n",
        "\n",
        "    def __len__(self) -> int:  #change dunder to retuen value\n",
        "        return self.age\n",
        "\n",
        "    def __del__(self) -> str : #delete object\n",
        "        print(\"deleted\")\n",
        "\n",
        "action_figure = Toy(\"red\", 20)\n",
        "print(action_figure.__str__())\n",
        "print(str(action_figure))\n",
        "print(len(action_figure))\n"
      ],
      "metadata": {
        "colab": {
          "base_uri": "https://localhost:8080/"
        },
        "id": "XxevpZyr0DdS",
        "outputId": "e138db95-0e21-4307-cbf5-7bfff3689755"
      },
      "execution_count": null,
      "outputs": [
        {
          "output_type": "stream",
          "name": "stdout",
          "text": [
            "red toy\n",
            "red toy\n",
            "20\n"
          ]
        }
      ]
    },
    {
      "cell_type": "code",
      "source": [
        "action_figure"
      ],
      "metadata": {
        "colab": {
          "base_uri": "https://localhost:8080/"
        },
        "id": "u7eL1LCz0pKm",
        "outputId": "d7fd69d2-eb34-47c4-8906-35c52e7c3e94"
      },
      "execution_count": null,
      "outputs": [
        {
          "output_type": "execute_result",
          "data": {
            "text/plain": [
              "<__main__.Toy at 0x7d9199a4dcd0>"
            ]
          },
          "metadata": {},
          "execution_count": 115
        }
      ]
    },
    {
      "cell_type": "code",
      "source": [
        "del action_figure"
      ],
      "metadata": {
        "id": "qyNvEII606Rt"
      },
      "execution_count": null,
      "outputs": []
    },
    {
      "cell_type": "code",
      "source": [
        "action_figure"
      ],
      "metadata": {
        "colab": {
          "base_uri": "https://localhost:8080/",
          "height": 141
        },
        "id": "Cc44oC1C0tA0",
        "outputId": "6c31d47e-8991-4145-9e89-ff5bd73d8e0b"
      },
      "execution_count": null,
      "outputs": [
        {
          "output_type": "error",
          "ename": "NameError",
          "evalue": "name 'action_figure' is not defined",
          "traceback": [
            "\u001b[0;31m---------------------------------------------------------------------------\u001b[0m",
            "\u001b[0;31mNameError\u001b[0m                                 Traceback (most recent call last)",
            "\u001b[0;32m<ipython-input-110-c91aea0746cc>\u001b[0m in \u001b[0;36m<cell line: 0>\u001b[0;34m()\u001b[0m\n\u001b[0;32m----> 1\u001b[0;31m \u001b[0maction_figure\u001b[0m\u001b[0;34m\u001b[0m\u001b[0;34m\u001b[0m\u001b[0m\n\u001b[0m",
            "\u001b[0;31mNameError\u001b[0m: name 'action_figure' is not defined"
          ]
        }
      ]
    },
    {
      "cell_type": "code",
      "source": [
        "# Example  Call\n",
        "class Toy():\n",
        "    def __init__(self, color:str , age:int) -> None:\n",
        "        self.color = color\n",
        "        self.age = age\n",
        "    def __str__(self) -> str:\n",
        "        return f\"{self.color} toy\"\n",
        "\n",
        "    def __len__(self) -> int:\n",
        "        return self.age\n",
        "\n",
        "    def __del__(self) -> str :\n",
        "        print(\"deleted\")\n",
        "\n",
        "    def __call__(self) -> any : # Call\n",
        "            return (\"called\")\n",
        "\n",
        "action_figure = Toy(\"red\", 20)\n",
        "print(action_figure.__str__())\n",
        "print(str(action_figure))\n",
        "print(len(action_figure))\n",
        "print(action_figure())\n"
      ],
      "metadata": {
        "colab": {
          "base_uri": "https://localhost:8080/"
        },
        "id": "o_MKmY6X07-_",
        "outputId": "b30704de-4e2f-4f5b-fdd0-07139154f30d"
      },
      "execution_count": null,
      "outputs": [
        {
          "output_type": "stream",
          "name": "stdout",
          "text": [
            "red toy\n",
            "red toy\n",
            "20\n",
            "called\n"
          ]
        }
      ]
    },
    {
      "cell_type": "code",
      "source": [
        "# Example  Get item\n",
        "class Toy():\n",
        "    def __init__(self, color:str , age:int) -> None:\n",
        "        self.color = color\n",
        "        self.age = age\n",
        "        self.my_dict = {\n",
        "            'name': 'Yoda',\n",
        "            'has_pets' : False\n",
        "        }\n",
        "    def __str__(self) -> str:\n",
        "        return f\"{self.color} toy\"\n",
        "\n",
        "    def __len__(self) -> int:\n",
        "        return self.age\n",
        "\n",
        "    def __del__(self) -> str :\n",
        "        print(\"deleted\")\n",
        "\n",
        "    def __call__(self) -> any :\n",
        "            return (\"called\")\n",
        "\n",
        "    def __getitem__(self, key) -> any : # Get item\n",
        "            return self.my_dict[key]\n",
        "\n",
        "action_figure = Toy(\"red\", 20)\n",
        "print(action_figure.__str__())\n",
        "print(str(action_figure))\n",
        "print(len(action_figure))\n",
        "print(action_figure())\n",
        "print(action_figure['name'])"
      ],
      "metadata": {
        "colab": {
          "base_uri": "https://localhost:8080/"
        },
        "id": "7CGkFsTw48TP",
        "outputId": "c088166e-bf32-4200-c958-f72d08a4a194"
      },
      "execution_count": null,
      "outputs": [
        {
          "output_type": "stream",
          "name": "stdout",
          "text": [
            "red toy\n",
            "red toy\n",
            "20\n",
            "called\n",
            "Yoda\n"
          ]
        }
      ]
    },
    {
      "cell_type": "code",
      "source": [
        "## Extenlist (can fake len)"
      ],
      "metadata": {
        "id": "CxY3psLD4kfI"
      },
      "execution_count": null,
      "outputs": []
    },
    {
      "cell_type": "code",
      "source": [
        "class SuperList(list):\n",
        "\n",
        "    def __len__(self):\n",
        "        return 1000\n",
        "\n",
        "\n",
        "super_list1 = SuperList()\n",
        "print(len(super_list1))\n"
      ],
      "metadata": {
        "colab": {
          "base_uri": "https://localhost:8080/"
        },
        "id": "2xdnQwtf5H4x",
        "outputId": "d14af2cb-9216-40d0-de4e-c583a428bf63"
      },
      "execution_count": null,
      "outputs": [
        {
          "output_type": "stream",
          "name": "stdout",
          "text": [
            "1000\n"
          ]
        }
      ]
    },
    {
      "cell_type": "code",
      "source": [
        "super_list1.append(5)\n",
        "print(super_list1[0])\n",
        "print(issubclass(SuperList, list))\n",
        "print(issubclass(list, object))"
      ],
      "metadata": {
        "colab": {
          "base_uri": "https://localhost:8080/"
        },
        "id": "3zueXx_s9AzY",
        "outputId": "c8d2a506-161b-4334-e788-71a18e63ba7b"
      },
      "execution_count": null,
      "outputs": [
        {
          "output_type": "stream",
          "name": "stdout",
          "text": [
            "5\n",
            "True\n",
            "True\n"
          ]
        }
      ]
    },
    {
      "cell_type": "code",
      "source": [
        "super_list1.append(10)\n",
        "super_list1"
      ],
      "metadata": {
        "colab": {
          "base_uri": "https://localhost:8080/"
        },
        "id": "xgdBZdrD9K_5",
        "outputId": "e818204d-524e-442d-8891-09e33588e93a"
      },
      "execution_count": null,
      "outputs": [
        {
          "output_type": "execute_result",
          "data": {
            "text/plain": [
              "[5, 10]"
            ]
          },
          "metadata": {},
          "execution_count": 134
        }
      ]
    },
    {
      "cell_type": "code",
      "source": [
        "len(super_list1)"
      ],
      "metadata": {
        "colab": {
          "base_uri": "https://localhost:8080/"
        },
        "id": "6NdiwJEw9WWH",
        "outputId": "a214ba59-f73e-46e0-ca03-a3deda0a955b"
      },
      "execution_count": null,
      "outputs": [
        {
          "output_type": "execute_result",
          "data": {
            "text/plain": [
              "1000"
            ]
          },
          "metadata": {},
          "execution_count": 135
        }
      ]
    },
    {
      "cell_type": "markdown",
      "source": [
        "## Multiple Inheritance"
      ],
      "metadata": {
        "id": "xfmRWktl9hkF"
      }
    },
    {
      "cell_type": "code",
      "source": [
        "class People:\n",
        "    def __init__(self, fname, lname):\n",
        "        self.firstname = fname\n",
        "        self.lastname = lname\n",
        "\n",
        "    def printname(self):\n",
        "        print(self.firstname, self.lastname)\n",
        "\n",
        "class PiPop(People):\n",
        "    def __init__(self, fname, lname, power):\n",
        "        People.__init__(self, fname, lname)  # Explicit call\n",
        "        self.power = power\n",
        "\n",
        "    def take_off(self):\n",
        "        print(f\"My name is {self.firstname}. I can take off.\")\n",
        "\n",
        "    def show_power(self):\n",
        "        print(f\"My power is {self.power}\")\n",
        "\n",
        "class PiKaHung(People):\n",
        "    def __init__(self, fname, lname, time):\n",
        "        People.__init__(self, fname, lname)  # Explicit call\n",
        "        self.time = time\n",
        "\n",
        "    def fly(self):\n",
        "        print(f\"My name is {self.firstname}. I can fly.\")\n",
        "\n",
        "    def time_to_fly(self):\n",
        "        print(f\"My time to fly is {self.time}\")\n",
        "\n"
      ],
      "metadata": {
        "id": "j1R3bTDI-Yq3"
      },
      "execution_count": null,
      "outputs": []
    },
    {
      "cell_type": "code",
      "source": [
        "## Create Class super Pi\n",
        "class HybridePi(PiPop, PiKaHung):\n",
        "    def __init__(self, fname, lname, power, time):\n",
        "        PiPop.__init__(self, fname, lname, power)\n",
        "        PiKaHung.__init__(self, fname, lname, time)\n"
      ],
      "metadata": {
        "id": "9w1YuKp1BQur"
      },
      "execution_count": null,
      "outputs": []
    },
    {
      "cell_type": "code",
      "source": [
        "# Create object\n",
        "superPi = HybridePi('Pop', 'Bangna', 20, '5 PM')\n",
        "\n",
        "# Try methods\n",
        "superPi.printname()\n",
        "superPi.take_off()\n",
        "superPi.show_power()\n",
        "superPi.fly()\n",
        "superPi.time_to_fly()\n"
      ],
      "metadata": {
        "colab": {
          "base_uri": "https://localhost:8080/"
        },
        "id": "c3v5P9Gn_CPA",
        "outputId": "a1b6cd97-0aa7-4995-a2ec-316f93d74f10"
      },
      "execution_count": null,
      "outputs": [
        {
          "output_type": "stream",
          "name": "stdout",
          "text": [
            "Pop Bangna\n",
            "My name is Pop. I can take off.\n",
            "My power is 20\n",
            "My name is Pop. I can fly.\n",
            "My time to fly is 5 PM\n"
          ]
        }
      ]
    },
    {
      "cell_type": "markdown",
      "source": [
        "## MRO Method Resolution Order"
      ],
      "metadata": {
        "id": "asNGwrrnBDXj"
      }
    },
    {
      "cell_type": "markdown",
      "source": [
        "Method Resolution Order (MRO) in Python defines *the order in which base classes are searched when calling a method.* This is especially important in multiple inheritance situations.\n",
        "\n",
        "Here’s a simple example to show how MRO works and how Python determines which method to call:"
      ],
      "metadata": {
        "id": "tO1YJvc1Cuj-"
      }
    },
    {
      "cell_type": "code",
      "source": [
        "class A:\n",
        "    def speak(self):\n",
        "        print(\"A speaks\")\n",
        "\n",
        "class B(A):\n",
        "    def speak(self):\n",
        "        print(\"B speaks\")\n",
        "\n",
        "class C(A):\n",
        "    def speak(self):\n",
        "        print(\"C speaks\")\n",
        "\n",
        "class D(B, C):\n",
        "    pass\n",
        "\n",
        "d = D()\n",
        "d.speak()\n",
        "\n",
        "# Show MRO\n",
        "print(D.__mro__)\n",
        "print(D.mro())\n"
      ],
      "metadata": {
        "colab": {
          "base_uri": "https://localhost:8080/"
        },
        "id": "OZk0YdpSCxm0",
        "outputId": "c1517983-f785-47ed-a7bc-4187adc61665"
      },
      "execution_count": null,
      "outputs": [
        {
          "output_type": "stream",
          "name": "stdout",
          "text": [
            "B speaks\n",
            "(<class '__main__.D'>, <class '__main__.B'>, <class '__main__.C'>, <class '__main__.A'>, <class 'object'>)\n",
            "[<class '__main__.D'>, <class '__main__.B'>, <class '__main__.C'>, <class '__main__.A'>, <class 'object'>]\n"
          ]
        }
      ]
    },
    {
      "cell_type": "code",
      "source": [
        "#       A\n",
        "#     /    \\\n",
        "#    /      \\\n",
        "#   B        C\n",
        "#   \\       /\n",
        "#    \\     /\n",
        "#       D"
      ],
      "metadata": {
        "id": "equCF9HzC0yE"
      },
      "execution_count": null,
      "outputs": []
    },
    {
      "cell_type": "markdown",
      "source": [
        "https://www.srikanthtechnologies.com/blog/python/mro.aspx"
      ],
      "metadata": {
        "id": "rmACPS70EPWx"
      }
    },
    {
      "cell_type": "markdown",
      "source": [
        "![mro_1.jpg](data:image/jpeg;base64,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)"
      ],
      "metadata": {
        "id": "pwDuCs6YEgCZ"
      }
    },
    {
      "cell_type": "markdown",
      "source": [
        "###Case1"
      ],
      "metadata": {
        "id": "dl7ctD1_EniQ"
      }
    },
    {
      "cell_type": "code",
      "source": [
        "class A:\n",
        "    def process(self):\n",
        "        print('A process()')\n",
        "\n",
        "class B:\n",
        "    pass\n",
        "\n",
        "class C(A, B):\n",
        "    pass\n",
        "\n",
        "obj = C()\n",
        "obj.process()\n",
        "print(C.mro())   # print MRO for class C"
      ],
      "metadata": {
        "colab": {
          "base_uri": "https://localhost:8080/"
        },
        "id": "CV37pmSKDflc",
        "outputId": "43ad4026-23dd-47c5-b370-ee3ecae779c6"
      },
      "execution_count": null,
      "outputs": [
        {
          "output_type": "stream",
          "name": "stdout",
          "text": [
            "A process()\n",
            "[<class '__main__.C'>, <class '__main__.A'>, <class '__main__.B'>, <class 'object'>]\n"
          ]
        }
      ]
    },
    {
      "cell_type": "markdown",
      "source": [
        "### Case2"
      ],
      "metadata": {
        "id": "B5VVgVGJEbCn"
      }
    },
    {
      "cell_type": "code",
      "source": [
        "class A:\n",
        "    def process(self):\n",
        "        print('A process()')\n",
        "\n",
        "class B:\n",
        "    def process(self):\n",
        "        print('B process()') ###Add\n",
        "\n",
        "class C(A, B):\n",
        "    pass\n",
        "\n",
        "obj = C()\n",
        "obj.process()"
      ],
      "metadata": {
        "colab": {
          "base_uri": "https://localhost:8080/"
        },
        "id": "b_x_epRXEtlr",
        "outputId": "ff0fa5d7-1ed3-4d8f-ec41-ac8c64c70951"
      },
      "execution_count": null,
      "outputs": [
        {
          "output_type": "stream",
          "name": "stdout",
          "text": [
            "A process()\n"
          ]
        }
      ]
    },
    {
      "cell_type": "markdown",
      "source": [
        "### Case3"
      ],
      "metadata": {
        "id": "otIEsbtfEtbP"
      }
    },
    {
      "cell_type": "markdown",
      "source": [
        "![mro_3.jpg](data:image/jpeg;base64,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)"
      ],
      "metadata": {
        "id": "TR28o2IqFEMP"
      }
    },
    {
      "cell_type": "code",
      "source": [
        "class A:\n",
        "    def process(self):\n",
        "        print('A process()')\n",
        "\n",
        "class B:\n",
        "    def process(self):\n",
        "        print('B process()')\n",
        "\n",
        "class C(A, B):\n",
        "    def process(self):\n",
        "        print('C process()')\n",
        "\n",
        "class D(C,B):\n",
        "    pass\n",
        "\n",
        "obj = D()\n",
        "obj.process()\n",
        "\n",
        "print(D.mro())"
      ],
      "metadata": {
        "colab": {
          "base_uri": "https://localhost:8080/"
        },
        "id": "MofpYcxOFB25",
        "outputId": "96bcc380-f667-4659-a1c0-4da106cc1eaa"
      },
      "execution_count": null,
      "outputs": [
        {
          "output_type": "stream",
          "name": "stdout",
          "text": [
            "C process()\n",
            "[<class '__main__.D'>, <class '__main__.C'>, <class '__main__.A'>, <class '__main__.B'>, <class 'object'>]\n"
          ]
        }
      ]
    },
    {
      "cell_type": "markdown",
      "source": [
        "###Case4"
      ],
      "metadata": {
        "id": "SPrC0kAzFMk9"
      }
    },
    {
      "cell_type": "markdown",
      "source": [
        "![mro_4.jpg](data:image/jpeg;base64,/9j/4AAQSkZJRgABAQEAeAB4AAD/2wBDAAIBAQIBAQICAgICAgICAwUDAwMDAwYEBAMFBwYHBwcGBwcICQsJCAgKCAcHCg0KCgsMDAwMBwkODw0MDgsMDAz/2wBDAQICAgMDAwYDAwYMCAcIDAwMDAwMDAwMDAwMDAwMDAwMDAwMDAwMDAwMDAwMDAwMDAwMDAwMDAwMDAwMDAwMDAz/wAARCAF2Af8DASIAAhEBAxEB/8QAHwAAAQUBAQEBAQEAAAAAAAAAAAECAwQFBgcICQoL/8QAtRAAAgEDAwIEAwUFBAQAAAF9AQIDAAQRBRIhMUEGE1FhByJxFDKBkaEII0KxwRVS0fAkM2JyggkKFhcYGRolJicoKSo0NTY3ODk6Q0RFRkdISUpTVFVWV1hZWmNkZWZnaGlqc3R1dnd4eXqDhIWGh4iJipKTlJWWl5iZmqKjpKWmp6ipqrKztLW2t7i5usLDxMXGx8jJytLT1NXW19jZ2uHi4+Tl5ufo6erx8vP09fb3+Pn6/8QAHwEAAwEBAQEBAQEBAQAAAAAAAAECAwQFBgcICQoL/8QAtREAAgECBAQDBAcFBAQAAQJ3AAECAxEEBSExBhJBUQdhcRMiMoEIFEKRobHBCSMzUvAVYnLRChYkNOEl8RcYGRomJygpKjU2Nzg5OkNERUZHSElKU1RVVldYWVpjZGVmZ2hpanN0dXZ3eHl6goOEhYaHiImKkpOUlZaXmJmaoqOkpaanqKmqsrO0tba3uLm6wsPExcbHyMnK0tPU1dbX2Nna4uPk5ebn6Onq8vP09fb3+Pn6/9oADAMBAAIRAxEAPwD9/KKKKACiiigAooooAKKKKACiiigAooooAKKKKACiiigAooooAK/mb8WeLf22P+Csn/Ba/wDaN+Enwl/aO8TfD0/DzWtfaxsm8Z6toGj22l6bq6adFFHHYJIDNiaElmj+fDkvnAP9MlfgD/wQL/5Wmv21P+55/wDUusaAD/hwX/wVN/6PU/8AMveLv/kSj/hwX/wVN/6PU/8AMveLv/kSv3+ooA/AH/hwX/wVN/6PU/8AMveLv/kSj/hwX/wVN/6PU/8AMveLv/kSv3+ooA/AH/hwX/wVN/6PU/8AMveLv/kSj/hwX/wVN/6PU/8AMveLv/kSv3+ooA/AH/hwX/wVN/6PU/8AMveLv/kSj/hwX/wVN/6PU/8AMveLv/kSv3+ooA/AH/hwX/wVN/6PU/8AMveLv/kSj/hwX/wVN/6PU/8AMveLv/kSv3+ooA/AH/hwX/wVN/6PU/8AMveLv/kSj/hwX/wVN/6PU/8AMveLv/kSv3+ooA/AH/hwX/wVN/6PU/8AMveLv/kSj/hwX/wVN/6PU/8AMveLv/kSv3+ooA/AH/hwX/wVN/6PU/8AMveLv/kSj/hwX/wVN/6PU/8AMveLv/kSv3+ooA/AH/hwX/wVN/6PU/8AMveLv/kSj/hwX/wVN/6PU/8AMveLv/kSv3+ooA/AH/hwX/wVN/6PU/8AMveLv/kSj/hwX/wVN/6PU/8AMveLv/kSv3+ooA/Bb/g2T/ai/aFh/wCCtHx3/Z9+MXxc8VfEu0+H2h6zFdrq+u3WtQJqmm6zZWDTWs13++WIiSfAwm4MpKBhX701+AP/AAQL/wCVpr9tT/uef/Uusa/f6gAooooAKKKKACiiigAooooAKKKKACiiigAooooAKKKKACiiigAooooAKKKKACiiigAooooAKKKKACiiigAooooAKKKKACiiigAooooAKKKKACvwB/4IF/8AK01+2p/3PP8A6l1jX7/V+AP/AAQL/wCVpr9tT/uef/UusaAP3+ooooAKKKKACiiigAooooAK/Ob/AILe/wDBwhpH/BHD4h+BvCsXw5/4WZr3i7T7jVbq2HiMaP8A2VbJIsULk/ZpzJ5ricDhceQeueP0YLbRk8AdTX8sniWWD/gu/wD8HOi2UxPiL4cw+JTZqqyeZbN4f0hWLbTyPKuDE7ccE3f+1mskqlXE08PS63b/AMKX4atP0TNbwp4epiKiulZL1e34J287H7af8EQ/+C3mif8ABZfwL44vIvBLfDvxF4GvoIbnSG1oasJ7WeMmG5WXyICMvHMhXZxsU7juwPuiv5bf+CHfxI1D/gkR/wAHBmufBnxHI8OjeJdZvPhzeNK+xWdp9+m3OD13yJAo5+7dMc9j/UlXXJ06lCliqPwzj+K3+9Wl5c1jmtOnXq4aq7uD/D/h0130uwooorE0CiiigAooooAKKKKAPwB/4IF/8rTX7an/AHPP/qXWNfv9X4A/8EC/+Vpr9tT/ALnn/wBS6xr9/qACiiigAooooAKKKKACiiigAooooAKKKKACiiigAooooAKKKKACiiigAooooAKKKKACiiigAooooAKKKKACiiigAooooAKKKKACiiigAooooAK/AH/ggX/ytNftqf8Ac8/+pdY1+/1fgD/wQL/5Wmv21P8Auef/AFLrGgD9/qKKKACiiigAooooAKKKKAPkX/gul+2kn7CP/BL74o+MoLl7bX9R01vDugNGQJBqF6DBFIuT1iDPN9ITX8yn/BLP/gg18Z/+CuXgPxT4m+HOq+AtB0bwpfxaZPceJ767thd3Dx+YUh+z20+7YpQtu248xMZycf2S0VnSpRjUnVlq5JJdLW/PeXbddtdKlSUqcKcdEm2/O/5bLvs++n8W/wDwUf8A+CWnxh/4IpfHDwLb+NdX8MXGr6tANf0LWPDF3cXFtFLbTgFd08ELiaNhE5GwjEkZyckD+uf/AIJ+/tS2n7a/7FXwz+Kdo0ZPjPQLa+ukjxtgu9uy5i4/uTrIv/Aa9horop1ZKg6M9feun230+atd9eVHPOnF1lVhppZrvtr997drsKKKKzNAooooAKKKKACiiigD8Af+CBf/ACtNftqf9zz/AOpdY1+/1fgD/wAEC/8Alaa/bU/7nn/1LrGv3+oAKKKKACiiigAooooAKKKKACiiigAooooAKKKKACiiigAooooAKKKKACiiigAooooAKKKKACiiigAooooAKKKKACiiigAooooAKKKKACiiigAr8Af+CBf/ACtNftqf9zz/AOpdY1+/1fgl+0z/AMGyX7XUH/BQj4vfGH4CfHfwh8P7b4l6/qerx3lv4p1rw/rCW9/eG8ls5jZWrgxrLt480hvKRiARgAH720V+AP8Aw4L/AOCpv/R6n/mXvF3/AMiUf8OC/wDgqb/0ep/5l7xd/wDIlAH7/UV+AP8Aw4L/AOCpv/R6n/mXvF3/AMiUf8OC/wDgqb/0ep/5l7xd/wDIlAH7/UV+AP8Aw4L/AOCpv/R6n/mXvF3/AMiUf8OC/wDgqb/0ep/5l7xd/wDIlAH7/UV+AP8Aw4L/AOCpv/R6n/mXvF3/AMiUf8OC/wDgqb/0ep/5l7xd/wDIlAH7/UV+AP8Aw4L/AOCpv/R6n/mXvF3/AMiUf8OC/wDgqb/0ep/5l7xd/wDIlAH7/UV/LB8B/gN+3T+0Z/wUA+If7N3hz9uLVn8f/DeB5b2ef4seKE03UXiMa3MNrKIS7y27yBJFaNMFH27ghI+of+HBf/BU3/o9T/zL3i7/AORKAP3+or8Af+HBf/BU3/o9T/zL3i7/AORKP+HBf/BU3/o9T/zL3i7/AORKAP3+or8Af+HBf/BU3/o9T/zL3i7/AORKP+HBf/BU3/o9T/zL3i7/AORKAP3+or8Af+HBf/BU3/o9T/zL3i7/AORKP+HBf/BU3/o9T/zL3i7/AORKAP3+or8Af+HBf/BU3/o9T/zL3i7/AORKP+HBf/BU3/o9T/zL3i7/AORKAD/ggX/ytNftqf8Ac8/+pdY1+/1fkZ/wQQ/4II/G3/gmx+238QfjN8ZviB4L8Zap4y8OXeku+kanf6le391d39reT3d1Pd28LFy1tycuztKxJGOf1zoAKKKKACiiigAooooAKKKKACiiigAooooAKKKKACiiigAooooAKKKKACiiigAooooAKKKKACiiigAooooAKKKKACiiigAooooAKKKKACiiigAooooAKKKKACiiigAooooAKKKKACvl3/gsf/wUGs/+CZ3/AAT+8b/EvzYP+EkEH9keFraXB+16tcBltxtPDLHh53XvHA/evqKvyG/4OMf+CR37UP8AwVq+L3g3Tvh9eeANN+FvgaxeW2t9W1ua3uL/AFKc/vrh40gddqRrHGmSSP3p48zFAH87n7Hv7aPi79j39s3wj8a9IvLm+8TeG9bGr3TTzHdqyyMwu4ZX5JE8UkqOeuJCetf24fAj41aB+0f8FvCnj/wrd/bvDnjLSrbWNNmIwzQTxrIu4fwsA2GXqCCDyK/iH/Y7/Y28Xftw/tVeHfg94Mk0eLxZ4nnubezfUrhoLQNb281w++RUYgbIXx8pycetf1Z/8G/P7GHx8/4J7fshX/wk+Nlz4T1Gw8P6m114SutF1SW9MNrcFpJ7WQPFHtVJt0iEZz9occBBkA+8aKKKACiiigAooooAKKKKACiiigAooooAKKKKACiiigAooooAKKKKACiiigAooooAKKKKACiiigAooooAKKKKACiiigAooooAKKKKACiiigAooooAKKKKACiiigAooooAKKKKACiiigAooooAKKKKACiiigAooooAKKKKAP5Av+DcP/lPh8G/+wrrf/po1Cv6/a/kC/4Nw/8AlPh8G/8AsK63/wCmjUK/r9oAKKKKACiiigAooooAKKKKACiiigAooooAKKKKACiiigAooooAKKKKACiiigAooooAKKKKACiiigAooooAKKKKACiiigAooooAKKKKACiiigAr+PD9tT9un49f8F4/2+fDNt4d8NQWXjttIbwvpOgeFr+W0h1CO1lvb1pWM8+3zNksuSWA2xKAM9f7D6/kC/4Nw/8AlPh8G/8AsK63/wCmjUKAD/hwr/wUE/6JT8QP/Cmsv/kuj/hwr/wUE/6JT8QP/Cmsv/kuv6/aKAP5Av8Ahwr/AMFBP+iU/ED/AMKay/8Akuj/AIcK/wDBQT/olPxA/wDCmsv/AJLr+v2igD+QL/hwr/wUE/6JT8QP/Cmsv/kuj/hwr/wUE/6JT8QP/Cmsv/kuv6/aKAP5Av8Ahwr/AMFBP+iU/ED/AMKay/8Akuj/AIcK/wDBQT/olPxA/wDCmsv/AJLr+v2igD+QL/hwr/wUE/6JT8QP/Cmsv/kuj/hwr/wUE/6JT8QP/Cmsv/kuv6/aKAP5Av8Ahwr/AMFBP+iU/ED/AMKay/8Akuj/AIcK/wDBQT/olPxA/wDCmsv/AJLr+v2igD+QL/hwr/wUE/6JT8QP/Cmsv/kuj/hwr/wUE/6JT8QP/Cmsv/kuv6/aKAP5Av8Ahwr/AMFBP+iU/ED/AMKay/8Akuj/AIcK/wDBQT/olPxA/wDCmsv/AJLr+v2igD+QL/hwr/wUE/6JT8QP/Cmsv/kuj/hwr/wUE/6JT8QP/Cmsv/kuv6/aKAP5Av8Ahwr/AMFBP+iU/ED/AMKay/8Akuj/AIcK/wDBQT/olPxA/wDCmsv/AJLr+v2igD+OrTf+DdP9uTRtQS7tPgb4otbqMkpNDrWnJIpIIOGFzkcE/nWx/wAOFf8AgoJ/0Sn4gf8AhTWX/wAl1/X7RQB/IF/w4V/4KCf9Ep+IH/hTWX/yXR/w4V/4KCf9Ep+IH/hTWX/yXX9ftFAH8gX/AA4V/wCCgn/RKfiB/wCFNZf/ACXR/wAOFf8AgoJ/0Sn4gf8AhTWX/wAl1/X7RQB/IF/w4V/4KCf9Ep+IH/hTWX/yXR/w4V/4KCf9Ep+IH/hTWX/yXX9ftFAH8gX/AA4V/wCCgn/RKfiB/wCFNZf/ACXR/wAOFf8AgoJ/0Sn4gf8AhTWX/wAl1/X7RQB/IF/w4V/4KCf9Ep+IH/hTWX/yXR/w4V/4KCf9Ep+IH/hTWX/yXX9ftFAH8gX/AA4V/wCCgn/RKfiB/wCFNZf/ACXR/wAOFf8AgoJ/0Sn4gf8AhTWX/wAl1/X7RQB/IF/w4V/4KCf9Ep+IH/hTWX/yXR/w4V/4KCf9Ep+IH/hTWX/yXX9ftFAH8gX/AA4V/wCCgn/RKfiB/wCFNZf/ACXR/wAOFf8AgoJ/0Sn4gf8AhTWX/wAl1/X7RQB/HV8RP+CKn7dnwn+H+ueKfEPw38eaboHhrT7jVdTvH8SWjLaWsEbSyyELdFiFRWOACeOAa/QL/gzT/wCChPjHWvin4v8A2dNQtrLUfDk9nqPxA/ti6mnl1JLoHS7IW4ZnKeRsG7G3duJ5xxX7R/8ABTX/AJRuftB/9k18R/8Aprua/ni/4Mwv+Ur3ij/smupf+nDTKAP6jaKKKACiiigAooooAKKKKACiiigAooooAKKKKACiiigAooooAKKKKACiiigAr+QL/g3D/wCU+Hwb/wCwrrf/AKaNQr+v2v5Av+DcP/lPh8G/+wrrf/po1CgD+v2iiigAooooAKKKKACiiigAooooAKKKKACiiigAooooAKKKKACiiigAooooAKKKKACiiigAooooAKKKKACiiigAooooAKKKKACiiigDw/8A4Ka/8o3P2g/+ya+I/wD013Nfzxf8GYX/ACle8Uf9k11L/wBOGmV/Q7/wU1/5RuftB/8AZNfEf/prua/ni/4Mwv8AlK94o/7JrqX/AKcNMoA/qNooooAKKKKACiiigAooooAKKKKACiiigAooooAKK/mb8WeLf22P+Csn/Ba/9o34SfCX9o7xN8PT8PNa19rGybxnq2gaPbaXpurpp0UUcdgkgM2JoSWaP58OS+cA+zf8OC/+Cpv/AEep/wCZe8Xf/IlAH7/UV+AP/Dgv/gqb/wBHqf8AmXvF3/yJR/w4L/4Km/8AR6n/AJl7xd/8iUAfv9RX4A/8OC/+Cpv/AEep/wCZe8Xf/IlH/Dgv/gqb/wBHqf8AmXvF3/yJQB+/1FfgD/w4L/4Km/8AR6n/AJl7xd/8iUf8OC/+Cpv/AEep/wCZe8Xf/IlAH7/V/IF/wbh/8p8Pg3/2Fdb/APTRqFff/wDw4L/4Km/9Hqf+Ze8Xf/IleQfDj/g0C/bQ+Dnj6z8V+EfjH8IPCvijTneS01jR/Fmu2N/as6MjmOeLTlkUsjupIYZDMDwTQB/S7RX4A/8ADgv/AIKm/wDR6n/mXvF3/wAiUf8ADgv/AIKm/wDR6n/mXvF3/wAiUAfv9RX4A/8ADgv/AIKm/wDR6n/mXvF3/wAiUf8ADgv/AIKm/wDR6n/mXvF3/wAiUAfv9RX4A/8ADgv/AIKm/wDR6n/mXvF3/wAiUf8ADgv/AIKm/wDR6n/mXvF3/wAiUAfv9RX4A/8ADgv/AIKm/wDR6n/mXvF3/wAiUf8ADgv/AIKm/wDR6n/mXvF3/wAiUAfv9RX4A/8ADgv/AIKm/wDR6n/mXvF3/wAiUf8ADgv/AIKm/wDR6n/mXvF3/wAiUAfv9RX4A/8ADgv/AIKm/wDR6n/mXvF3/wAiVq/8Gyf7UX7QsP8AwVo+O/7Pvxi+Lnir4l2nw+0PWYrtdX1261qBNU03WbKwaa1mu/3yxEST4GE3BlJQMKAP3pooooAKKKKACiiigAooooAKKKKACiiigAooooAKKKKACiv5m/Fni39tj/grJ/wWv/aN+Enwl/aO8TfD0/DzWtfaxsm8Z6toGj22l6bq6adFFHHYJIDNiaElmj+fDkvnAPs3/Dgv/gqb/wBHqf8AmXvF3/yJQB+/1FfgD/w4L/4Km/8AR6n/AJl7xd/8iUf8OC/+Cpv/AEep/wCZe8Xf/IlAH7/UV+AP/Dgv/gqb/wBHqf8AmXvF3/yJR/w4L/4Km/8AR6n/AJl7xd/8iUAfv9RX4A/8OC/+Cpv/AEep/wCZe8Xf/IlH/Dgv/gqb/wBHqf8AmXvF3/yJQB+/1FfgD/w4L/4Km/8AR6n/AJl7xd/8iUf8OC/+Cpv/AEep/wCZe8Xf/IlAH7Hf8FNf+Ubn7Qf/AGTXxH/6a7mv54v+DML/AJSveKP+ya6l/wCnDTK+gfE//BvJ/wAFO/G3hvUNG1n9sOx1bR9WtpLK+sb34r+K57a9gkUpJFLG9mVdHVirKwIIJBGDXnnwX/4NKP24v2b/ABZLr3w8+Onwu8Ba5PbNZSaj4c8aa/pd3JAzKzRGWDT0coWRCVzglFOOBQB/SfRX4A/8OC/+Cpv/AEep/wCZe8Xf/IlH/Dgv/gqb/wBHqf8AmXvF3/yJQB+/1FfgD/w4L/4Km/8AR6n/AJl7xd/8iUf8OC/+Cpv/AEep/wCZe8Xf/IlAH7/UV+AP/Dgv/gqb/wBHqf8AmXvF3/yJR/w4L/4Km/8AR6n/AJl7xd/8iUAfv9RX4A/8OC/+Cpv/AEep/wCZe8Xf/IlH/Dgv/gqb/wBHqf8AmXvF3/yJQB+/1FfgD/w4L/4Km/8AR6n/AJl7xd/8iVq/8Gyf7UX7QsP/AAVo+O/7Pvxi+Lnir4l2nw+0PWYrtdX1261qBNU03WbKwaa1mu/3yxEST4GE3BlJQMKAP3pooooAKKKKAPwB/wCCBf8AytNftqf9zz/6l1jX7/V+AP8AwQL/AOVpr9tT/uef/Uusa/f6gAooooAKKKKACiiigAoorhf2ofjV/wAM2/s1fEH4h/2b/bP/AAgnhvUfEP8AZ/2j7P8AbvsltJP5Pm7X2b/L27trYznacYqKlSNODqT2Wr+RdKnKpNU4bt2XqzuqK/AH/iOc/wCrXf8AzJH/AN669W/Yz/4POvh58fPjvovhH4j/AAk1L4WaRr1zHYwa/B4lXW7a0nkcKhuUNrbtHDk8yKX29SuMsNqdOVSShDdmU5qEXKWyP2oopFYOoI5B5BHelqCgooooAKKKKACiiigAr8Af+CBf/K01+2p/3PP/AKl1jX7/AFfgD/wQL/5Wmv21P+55/wDUusaAP3+ooooAKKKKACiiigAooooAKKKKACiiigAooooAKKKKAPwB/wCCBf8AytNftqf9zz/6l1jX7/V+AP8AwQL/AOVpr9tT/uef/Uusa/f6gAooooAKKKKACiiigAoopC20ZPAHU0N21YC0V+Qn7en/AAeF/BP9mD4j6h4U+GXhDVvjXqGj3BtrzU7bVE0jRGdSVcQXJimkn2kEblh8tuCkjA5qr+wn/wAHi3we/aZ+LGkeEPiT4B1r4PXOv3cdlZas+sRavo8MrsVX7TP5UDwISUG/ymRdxLlFUtToJ1mlT1vt5+ncK/7m6q6W38vXtbrfbqfsLRSKwdQRyDyCO9LSAKKKKACiiigAooooAK/AH/ggX/ytNftqf9zz/wCpdY1+/wBX4A/8EC/+Vpr9tT/uef8A1LrGgD9/qKKKACiiigD8Af8AggX/AMrTX7an/c8/+pdY1+/1fgD/AMEC/wDlaa/bU/7nn/1LrGv3+oAKKKKACiiigAooooAK8K/4Kg/8o1f2g/8Asm/iH/023Fe614V/wVB/5Rq/tB/9k38Q/wDptuK4sy/3Sr/hl+TO7K/99o/4o/mj+TX/AIIt/wDBVb/h0H+1LrXxK/4QP/hYf9r+Gp/D39nf23/ZPlebcW0/neb9nnzj7Pt27BnfncMYOx41+Nvgf/gsf/wWEl8dfEfVvCX7O/gz4gaxYy6o1xNPcw2kMUcEDIJ44ApuJVjLGaZYYgzMzsoGDj/8EW/+Cq3/AA6D/al1r4lf8IH/AMLD/tfw1P4e/s7+2/7J8rzbi2n87zfs8+cfZ9u3YM787hjB6r9uz48fEv8A4OFP29oPF3w0+BF3pmsahYW2iJpWgK+pFzGzH7Re3vlRR7v3oBkkWNUjSME4XJ9aM5LE4apBc7jdduX3m7ed2k762v2TR5nuxo1+aXInbX+b4V/27b5beZ/YhZRxw2USRHdEqKEIOcrjjmpa4X9l/wCGepfBb9mv4feD9Zvxqur+FfDen6RfXoZmF1Pb20cUkgLfMQzITzzzXdVnXjGNWUYu6Tevfz+YsM26MG48rstO2m3yCiiisjYKKKKACiiigAr8Af8AggX/AMrTX7an/c8/+pdY1+/1fgD/AMEC/wDlaa/bU/7nn/1LrGgD9/qKKKACiiigAooooAKKKKACiiigAooooAKKKKACiiigD8Af+CBf/K01+2p/3PP/AKl1jX7/AFfgD/wQL/5Wmv21P+55/wDUusa/f6gAooooAKKKKACiiigAr5d/4LW/FXV/gp/wSf8Aj34j0G6msdXtPCF3BbXMLlJbZpwLcyIw5DKJSQRyCB0r6irgP2qv2edI/a0/Zr8dfDLXpJoNI8d6Hd6JczwjMlsJ4mQSpnjchIYZ4yorkx9OVTC1KcN3FperR04OpGGIhOWyaf4n87X/AAZefs6eFfil+2r8R/G2vaXa6nrHw78P2zaEbmJZFsZ7qZ0e4QH7sqpEUVhyBK/rX7Nftrf8EFP2a/8AgoJ+0lp/xQ+JvhG/1LXbTTxp13bWGpSaZa6yqsWjkujb7JpJUBKBxKp2YU5Crt/Av9nzxH+0d/wasft0+ItV8U/DGbxT4R1W2fRb25Imt9F8T2nmCSCe01BY3SKYMqna6syh3R4wSCOo+Jf7cH7YX/BwV/wUB8HeJfgT4a8d/Cq18P2y6HY3fhvWLxLHw5BLLvubm91ONIVO/aNy4XesKIqO33vQlOOKWHVFc1k79OVty1d7d0nfa+ux5/LKh7d1Xa7Vtfiso6aejate/Tc/qF8IeFLLwJ4T0zRNNSaPTtHtYrK1SW4kuJEijQIgaSRmdyFA+Z2LHqSTWjWB8K/Cd94C+GXh7Q9U1q98S6lo+m29ld6veAC41SaOJUe4kA4DSMCx92rfpVW3Uk3Lm137+euuvmXRSVOKUeXRadvLTsFFFFZmgUUUUAFFFFABX4A/8EC/+Vpr9tT/ALnn/wBS6xr9/q/AH/ggX/ytNftqf9zz/wCpdY0Afv8AUUUUAFFFFAH4A/8ABAv/AJWmv21P+55/9S6xr9/q/AH/AIIF/wDK01+2p/3PP/qXWNfv9QAUUUUAFFFFABRRRQAUUUUAFFFFABRRRQAUUUUAFFFFABRRRQAV+AP/AAQL/wCVpr9tT/uef/Uusa/f6vwB/wCCBf8AytNftqf9zz/6l1jQB+/1FFFABRRRQAUUUUAFFFFABRRRQAUUUUAFFFFABRRRQB+AP/BAv/laa/bU/wC55/8AUusa/f6vwB/4IF/8rTX7an/c8/8AqXWNfv8AUAFFFFABRRRQAUUUUAFFFFABRRRQAUUUUAFFFFABRRRQAUUUUAFfgD/wQL/5Wmv21P8Auef/AFLrGv3+r8Af+CBf/K01+2p/3PP/AKl1jQB+/wBRRRQAUUUUAfgl+0z/AMGyX7XUH/BQj4vfGH4CfHfwh8P7b4l6/qerx3lv4p1rw/rCW9/eG8ls5jZWrgxrLt480hvKRiARgZ3/AA4L/wCCpv8A0ep/5l7xd/8AIlfv9RQB+AP/AA4L/wCCpv8A0ep/5l7xd/8AIlH/AA4L/wCCpv8A0ep/5l7xd/8AIlfv9RQB+AP/AA4L/wCCpv8A0ep/5l7xd/8AIlH/AA4L/wCCpv8A0ep/5l7xd/8AIlfv9RQB+AP/AA4L/wCCpv8A0ep/5l7xd/8AIlH/AA4L/wCCpv8A0ep/5l7xd/8AIlfv9RQB+AP/AA4L/wCCpv8A0ep/5l7xd/8AIlfL3wH+A37dP7Rn/BQD4h/s3eHP24tWfx/8N4HlvZ5/ix4oTTdReIxrcw2sohLvLbvIEkVo0wUfbuCEj9/f+Cx//BQaz/4Jnf8ABP7xv8S/Ng/4SQQf2R4WtpcH7Xq1wGW3G08MseHnde8cD96/kF/Y9/bR8Xfse/tm+EfjXpF5c33ibw3rY1e6aeY7tWWRmF3DK/JIniklRz1xIT1oA/Z7/hwX/wAFTf8Ao9T/AMy94u/+RKP+HBf/AAVN/wCj1P8AzL3i7/5Er90vgR8atA/aP+C3hTx/4Vu/t3hzxlpVtrGmzEYZoJ41kXcP4WAbDL1BBB5FdZQB+AP/AA4L/wCCpv8A0ep/5l7xd/8AIlH/AA4L/wCCpv8A0ep/5l7xd/8AIlfv9RQB+AP/AA4L/wCCpv8A0ep/5l7xd/8AIlH/AA4L/wCCpv8A0ep/5l7xd/8AIlfv9RQB+AP/AA4L/wCCpv8A0ep/5l7xd/8AIlH/AA4L/wCCpv8A0ep/5l7xd/8AIlfv9RQB+AP/AA4L/wCCpv8A0ep/5l7xd/8AIlH/AA4L/wCCpv8A0ep/5l7xd/8AIlfv9RQB+AP/AA4L/wCCpv8A0ep/5l7xd/8AIlfRf/BBD/ggj8bf+CbH7bfxB+M3xm+IHgvxlqnjLw5d6S76Rqd/qV7f3V3f2t5Pd3U93bwsXLW3Jy7O0rEkY5/XOigAooooAKKKKACiiigAooooAKKKKACiiigAooooAKKKKAPwS/aZ/wCDZL9rqD/goR8XvjD8BPjv4Q+H9t8S9f1PV47y38U614f1hLe/vDeS2cxsrVwY1l28eaQ3lIxAIwM7/hwX/wAFTf8Ao9T/AMy94u/+RK/f6igD8Af+HBf/AAVN/wCj1P8AzL3i7/5Eo/4cF/8ABU3/AKPU/wDMveLv/kSv3+ooA/AH/hwX/wAFTf8Ao9T/AMy94u/+RKP+HBf/AAVN/wCj1P8AzL3i7/5Er9/qKAPwB/4cF/8ABU3/AKPU/wDMveLv/kSj/hwX/wAFTf8Ao9T/AMy94u/+RK/f6igD8Af+HBf/AAVN/wCj1P8AzL3i7/5Eo/4cF/8ABU3/AKPU/wDMveLv/kSv3+ooA/AE/wDBAz/gqYoyf21MAdT/AMLf8Xf/ACJXy9/wT6+Av7dX/BTHx98TfDnwy/bi1aa/+F2pCwvmv/ix4oij1WEvJGl9ZlIXMtq7RNhmCMMruRdy5/Yj/g5v/wCCkX/DAf8AwTl1bSNDv/svxB+Lvm+GND8t9s1pbsn+nXi9x5cLiNWByslxEe1fzk/8EVf+Ch1z/wAEzP8AgoT4L+Ics8y+FLqX+w/FkEeT5+k3DKszbRyzRMI51HdoFHQmgD9T/wDhwX/wVN/6PU/8y94u/wDkSj/hwX/wVN/6PU/8y94u/wDkSv3407UYNX0+C6tZorm1uY1lhmiYMkqMMqykcEEEEH3qagD8Af8AhwX/AMFTf+j1P/MveLv/AJEo/wCHBf8AwVN/6PU/8y94u/8AkSv3+ooA/AH/AIcF/wDBU3/o9T/zL3i7/wCRKP8AhwX/AMFTf+j1P/MveLv/AJEr9/qKAPwB/wCHBf8AwVN/6PU/8y94u/8AkSj/AIcF/wDBU3/o9T/zL3i7/wCRK/f6igD8Af8AhwX/AMFTf+j1P/MveLv/AJEr6L/4IIf8EEfjb/wTY/bb+IPxm+M3xA8F+MtU8ZeHLvSXfSNTv9Svb+6u7+1vJ7u6nu7eFi5a25OXZ2lYkjHP650UAFFFFABRRRQAUUUUAFFFFABRRRQAUUUUAfkN/wAHGP8AwSO/ah/4K1fF7wbp3w+vPAGm/C3wNYvLbW+ra3Nb3F/qU5/fXDxpA67UjWONMkkfvTx5mK/nU/Y7/Y28Xftw/tVeHfg94Mk0eLxZ4nnubezfUrhoLQNb281w++RUYgbIXx8pycetf3SV/IF/wbh/8p8Pg3/2Fdb/APTRqFAH9Bn/AAb8/sYfHz/gnt+yFf8Awk+Nlz4T1Gw8P6m114SutF1SW9MNrcFpJ7WQPFHtVJt0iEZz9occBBn7xoooAKKKKACiiigAooooAKKKKACiiigAooooAKKKKACiiigAooooAKKKKACiiigAooooAKKKKACiiigAooooAKKKKACiiigAooooA/Az/g5F/wCCQP7Un7cvx98c/Gx7z4f2nwk+FXhi4k0TTpdbm+3R6dZwPdXUxiEBTz5nErY3fdESFvkzX46f8E4v+Cb3xC/4Kj/Hi9+HXw1m8Owa/p+iza7K2tXj2tv9nilhiYBkjc7906YGOmeeK/sO/wCCmv8Ayjc/aD/7Jr4j/wDTXc1/PF/wZhf8pXvFH/ZNdS/9OGmUAfvh/wAEfvgr8Zf2af2C/B3w5+OU/h++8X+BY20azv8ASNQe9ivdMiA+yF2eOMiSOM+SRg5WFGySxx9O0UUAFFFFABRRRQAUUUUAFFFFABRRRQAUUUUAFFFFABRRRQAUUUUAFFFFABX8gX/BuH/ynw+Df/YV1v8A9NGoV/X7X8gX/BuH/wAp8Pg3/wBhXW//AE0ahQB/X7RRRQAUUUUAFFFFABRRRQAUUUUAFFFFABRRRQAUUUUAFFFFABRRRQAUUUUAFFFFABRRRQAUUUUAFFFFABRRRQAUUUUAFFFFABRRRQB4f/wU1/5RuftB/wDZNfEf/prua/ni/wCDML/lK94o/wCya6l/6cNMr+h3/gpr/wAo3P2g/wDsmviP/wBNdzX88X/BmF/yle8Uf9k11L/04aZQB/UbRRRQAUUUUAFFFFABRRRQAUUUUAFFFFABRRRQAUUUUAFFFFABRRRQAUUUUAFfx1ab/wAG6f7cmjagl3afA3xRa3UZJSaHWtOSRSQQcMLnI4J/Ov7FaKAP5Av+HCv/AAUE/wCiU/ED/wAKay/+S6P+HCv/AAUE/wCiU/ED/wAKay/+S6/r9ooA/kC/4cK/8FBP+iU/ED/wprL/AOS6P+HCv/BQT/olPxA/8Kay/wDkuv6/aKAP5Av+HCv/AAUE/wCiU/ED/wAKay/+S6P+HCv/AAUE/wCiU/ED/wAKay/+S6/r9ooA/kC/4cK/8FBP+iU/ED/wprL/AOS6P+HCv/BQT/olPxA/8Kay/wDkuv6/aKAP5Av+HCv/AAUE/wCiU/ED/wAKay/+S6P+HCv/AAUE/wCiU/ED/wAKay/+S6/r9ooA/kC/4cK/8FBP+iU/ED/wprL/AOS6P+HCv/BQT/olPxA/8Kay/wDkuv6/aKAP5Av+HCv/AAUE/wCiU/ED/wAKay/+S6P+HCv/AAUE/wCiU/ED/wAKay/+S6/r9ooA/kC/4cK/8FBP+iU/ED/wprL/AOS6P+HCv/BQT/olPxA/8Kay/wDkuv6/aKAP5Av+HCv/AAUE/wCiU/ED/wAKay/+S6P+HCv/AAUE/wCiU/ED/wAKay/+S6/r9ooA/kC/4cK/8FBP+iU/ED/wprL/AOS6P+HCv/BQT/olPxA/8Kay/wDkuv6/aKAP4W/gp4H+MH7Rfxy0z4a+C5vFGu+N9YuZbOz0qLVjHJPLEjvIoZ5FQYWNzywHy19T/wDDhX/goJ/0Sn4gf+FNZf8AyXR/wQV/5WCPhT/2Ner/APpFfV/X7QB/IF/w4V/4KCf9Ep+IH/hTWX/yXR/w4V/4KCf9Ep+IH/hTWX/yXX9ftFAH8gX/AA4V/wCCgn/RKfiB/wCFNZf/ACXR/wAOFf8AgoJ/0Sn4gf8AhTWX/wAl1/X7RQB/IF/w4V/4KCf9Ep+IH/hTWX/yXR/w4V/4KCf9Ep+IH/hTWX/yXX9ftFAH8gX/AA4V/wCCgn/RKfiB/wCFNZf/ACXR/wAOFf8AgoJ/0Sn4gf8AhTWX/wAl1/X7RQB/IF/w4V/4KCf9Ep+IH/hTWX/yXR/w4V/4KCf9Ep+IH/hTWX/yXX9ftFAH8gX/AA4V/wCCgn/RKfiB/wCFNZf/ACXR/wAOFf8AgoJ/0Sn4gf8AhTWX/wAl1/X7RQB/IF/w4V/4KCf9Ep+IH/hTWX/yXR/w4V/4KCf9Ep+IH/hTWX/yXX9ftFAH8gX/AA4V/wCCgn/RKfiB/wCFNZf/ACXR/wAOFf8AgoJ/0Sn4gf8AhTWX/wAl1/X7RQB/H/df8EC/2/722khm+EvjyWGVSkkb+JLJldSMEEG7wQR2r9N/+DVT/gjH8W/2Iv2jvib8S/jR4O13wHqsOg23h/w9az3dnPb6pFdTNNeO3kvIweI2doF5UYnfhv4f3JooAKKKKACiiigAooooAKKKKACiiigAooooAKKKKACiiigAooooAKKKKACiiigAooooAKKKKACiiigAooooAKKKKACiiigAooooAKKKKACiiigAooooAKKKKAP5Av8Ag3j/AOKj/wCC/Hwglm+Rpte1m5bZ0DDTL+TAz2yK/r9r+QL/AINw/wDlPh8G/wDsK63/AOmjUK/r9oAKKKKACiiigAooooAKKKKACiiigAooooAKKKKACiiigAooooAKKKKACiiigAooooAKKKKACiiigAooooAKKKKACiiigAooooAKKKKACiiigAooooAKKKKACiiigAooooAKKKKACiiigAooooAKKKKACiiigAooooAKKKKAP5Av+DcP/lPh8G/+wrrf/po1Cv6/a/kC/wCDcP8A5T4fBv8A7Cut/wDpo1Cv6/aACiiigAooooAKKKKACiiigAooooAKKKKACiiigAooooAKKKKACiiigAooooAKKKKACiiigAooooAKKKKACiiigAooooAKKKKACiiigAooooAKKKKACiiigAooooAKKKKACiiigAooooA/nb+Nf/BWr/gor+2L/wAFXPjl8Gf2YNZsIYfhjrWsWdvoFppvh5BHp2m6iNPa7e41VMvI8jwllEnWT5U2qTXTf8b1/wDP/CvqP+CBf/K01+2p/wBzz/6l1jX7/UAfgD/xvX/z/wAK+o/43r/5/wCFfV+/1FAH4A/8b1/8/wDCvqP+N6/+f+FfV+/1FAH4A/8AG9f/AD/wr6j/AI3r/wCf+FfV+/1FAH4A/wDG9f8Az/wr6j/jev8A5/4V9X7/AFFAH8oX7OH/AAQV/wCCk37JHx80b4n/AA9+FP8Awj/jnw/LPPYan/wk3ha7+zvNDJDIfKnu3ibMcsg+ZDjdkYIBH1//AMb1/wDP/Cvq/f6igD8Af+N6/wDn/hX1H/G9f/P/AAr6v3+ooA/AH/jev/n/AIV9R/xvX/z/AMK+r9/qKAPwB/43r/5/4V9R/wAb1/8AP/Cvq/f6igD8Af8Ajev/AJ/4V9R/xvX/AM/8K+r9/qKAPwB/43r/AOf+FfV6r/wbo/8ABWX9qP8Aad/4KK/Fz4A/tG67Ya/qXgHQ9SurkHS9OtbrSNSsNTs7Ce2ElgiQSx7p5ct8+SgKuVNftTX4A/8ABAv/AJWmv21P+55/9S6xoA/f6iiigAooooAKKKKACiiigAooooAKKKKACiiigAooooAKKKKACiiigAooooAKKKKACiiigAooooAKKKKACiiigAooooAKKKKACiiigAooooAKKKKAPwB/4IF/8rTX7an/AHPP/qXWNfv9X4A/8EC/+Vpr9tT/ALnn/wBS6xr9/qACiiigAooooAKKKKACuT+PPxi0z9nj4H+MfH2tQX11o/gjRLzXr6GyRHuZYLWB55FiV2VS5VCFDMoJxkjrXWV4V/wVB/5Rq/tB/wDZN/EP/ptuK5sZVlTw86kd0m/uR1YGlGriadKe0pJP5s/PX/iNW/ZZ/wChB+P/AP4I9I/+WdfRf/BPj/g4/wD2Zv8Agoz8TrTwR4Y1fxJ4P8Z6mzLpujeLtPjsZtTZedsMsMs0DORyI/MDt2U4NfiF/wAGkH7PngL9pL/gpB4t0P4ieCPCHj3RLb4f3t7Dp/iPRrfVLWKdb/T0WVYp0dQ4V3AYDIDsM8muX/4OWv2R/Cf/AATn/wCCr1ufhHYReC9M1nRdP8YWNjpp8mHRb3z5o2Nso/1SeZbCVVU4VnIXaoVR3T5KM6Ptvhq323Wsv/kW/wAPM46anVjVdLen36/D/wDJL+tD+tmivP8A9lD4q3Hx1/Zc+HHja8jEV54u8L6brNwgGAklxaxysB7Zc16BRXpSpVJUpbxbX3EUKqq041Y7SSf3hRRRWRqFFFFABRRRQAV+AP8AwQL/AOVpr9tT/uef/Uusa/f6vwB/4IF/8rTX7an/AHPP/qXWNAH7/UUUUAFFFFABRRRQAUUUUAFFFFABRRRQAUUUUAFFFFABRRRQAUUUUAFFFFABRRRQAUUUUAFFFFABRRRQAUUUUAFFFFABRRRQAUUUUAFFFFABRRRQB+AP/BAv/laa/bU/7nn/ANS6xr9/q/AH/ggX/wArTX7an/c8/wDqXWNfv9QAUUUUAFFFFABRRRQAV4V/wVB/5Rq/tB/9k38Q/wDptuK91qh4o8L6Z448NahoutadY6vo+rW0llfWF7bpcW17BIpSSKWNwVdGUlWVgQQSCKwxVJ1aM6S+0mvvR0YSsqNeFZ/Zaf3O5/H9/wAG+X/BTzwF/wAEn/2zvEHxF+ImkeL9Z0TVfCNzoEMHhy1t7i6WeS7tJlZlnnhXZtt3BIYnJXjqRv8A7evx48X/APByL/wVs00/CfwVrVpHqlpaeHdFsrsrLLYafA7vJfXhQmOFQ00kj4YqowoZzgn+nH/h07+yz/0bT8AP/DeaR/8AI9em/Bj9nL4e/s4aLPpvw88B+DPAenXLiSa18O6JbaXDKwzhmSBEUnk8kd67HKFSdOVdXVPZbbt7v/t5/J+jXKuaEKkaTs57v7v8l93qXPgp8MbT4J/Bvwn4NsGD2XhPRrPRrdgu3dHbwpCpxzjIQd66eiipq1JVJupPVt3fzFSpxpwVOGyVl8goooqCwooooAKKKKACvwB/4IF/8rTX7an/AHPP/qXWNfv9X4A/8EC/+Vpr9tT/ALnn/wBS6xoA/f6iiigAooooAKKKKACiiigAooooAKKKKACiiigAooooAKKKKACiiigAooooAKKKKACiiigAooooAKKKKACiiigAooooAKKKKACiiigAooooAKKKKAPwB/4IF/8AK01+2p/3PP8A6l1jX7/V/Ol8Wv8AglD/AMFG/wBkT/gq38efjN+zP4ctEi+JOv61cWmv2+q+HJVutM1HURqHkG31OXKOrpCGPlA5iO1irHPX/wDG9f8Az/wr6gD9/qK/AH/jev8A5/4V9R/xvX/z/wAK+oA/f6ivwB/43r/5/wCFfUf8b1/8/wDCvqAP3+or8Af+N6/+f+FfUf8AG9f/AD/wr6gD9/qK/AH/AI3r/wCf+FfUf8b1/wDP/CvqAP3+or8Af+N6/wDn/hX1H/G9f/P/AAr6gD9/qK/AH/jev/n/AIV9R/xvX/z/AMK+oA/f6ivwB/43r/5/4V9R/wAb1/8AP/CvqAP3+or8Af8Ajev/AJ/4V9R/xvX/AM/8K+oA/f6ivwB/43r/AOf+FfUf8b1/8/8ACvqAP3+r8Af+CBf/ACtNftqf9zz/AOpdY0f8b1/8/wDCvq9L/wCDdL/glP8AtU/sx/8ABS74ufHb9o3wtbaBdePvDmpQ3V2dW0u6m1fVb/VbO+mlWKwleOJcwSkjCKDIoVccAA/bOiiigAooooAKKKKACiiigAooooAKKKKACiiigAooooAKKKKACiiigAooooAKKKKACiiigAooooAKKKKACiiigAooooAKKKKACiiigAooooAKKKKACiiigAooooAKKKKACiiigAooooAKKKKACiiigAooooAKKKKACiiigAooooAKKKKACiiigAooooAKKKKACiiigAooooAKKKKACiiigAooooAKKKKACiiigAooooAKKKKACiiigAooooAKKKKACiiigAooooAKKKKACiiigAooooAKKKKACiiigAooooAKKKKACiiigAooooAKKKKACiiigAooooAKKKKACiiigAooooAKKKKACiiigAooooAKKKKACiiigAooooAKKKKACiiigAooooAKKKKAP//Z)"
      ],
      "metadata": {
        "id": "YmeuP7dDFwgx"
      }
    },
    {
      "cell_type": "code",
      "source": [
        "class A:\n",
        "    def process(self):\n",
        "        print('A process()')\n",
        "\n",
        "class B(A):\n",
        "    pass\n",
        "\n",
        "class C(A):\n",
        "    def process(self):\n",
        "        print('C process()')\n",
        "\n",
        "class D(B,C):\n",
        "    pass\n",
        "\n",
        "obj = D()\n",
        "obj.process()\n",
        "print(D.mro())"
      ],
      "metadata": {
        "colab": {
          "base_uri": "https://localhost:8080/"
        },
        "id": "h66QRTQjFwLx",
        "outputId": "2cca9009-44cd-4cbe-e7b6-ebf39c20c7ae"
      },
      "execution_count": null,
      "outputs": [
        {
          "output_type": "stream",
          "name": "stdout",
          "text": [
            "C process()\n",
            "[<class '__main__.D'>, <class '__main__.B'>, <class '__main__.C'>, <class '__main__.A'>, <class 'object'>]\n"
          ]
        }
      ]
    },
    {
      "cell_type": "markdown",
      "source": [
        "###Case5"
      ],
      "metadata": {
        "id": "diMJ6gu5F03c"
      }
    },
    {
      "cell_type": "markdown",
      "source": [
        "![mro_5.jpg](data:image/jpeg;base64,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)"
      ],
      "metadata": {
        "id": "Y4KE5RNmGGZp"
      }
    },
    {
      "cell_type": "markdown",
      "source": [
        "There are cases when Python cannot construct MRO owing to complexity of hierarchy. In such cases it will throw an error as demonstrated by the following code."
      ],
      "metadata": {
        "id": "X203MTyBGOPw"
      }
    },
    {
      "cell_type": "code",
      "source": [
        "class A:\n",
        "    def process(self):\n",
        "        print('A process()')\n",
        "\n",
        "\n",
        "class B(A):\n",
        "    def process(self):\n",
        "        print('B process()')\n",
        "\n",
        "\n",
        "class C(A, B):\n",
        "    pass\n",
        "\n",
        "\n",
        "obj = C()\n",
        "obj.process()"
      ],
      "metadata": {
        "colab": {
          "base_uri": "https://localhost:8080/",
          "height": 228
        },
        "id": "nGOxvT2tGHkr",
        "outputId": "967e3df7-12f4-41d7-cf65-f793fa38da22"
      },
      "execution_count": null,
      "outputs": [
        {
          "output_type": "error",
          "ename": "TypeError",
          "evalue": "Cannot create a consistent method resolution\norder (MRO) for bases A, B",
          "traceback": [
            "\u001b[0;31m---------------------------------------------------------------------------\u001b[0m",
            "\u001b[0;31mTypeError\u001b[0m                                 Traceback (most recent call last)",
            "\u001b[0;32m<ipython-input-167-c32dd14615f0>\u001b[0m in \u001b[0;36m<cell line: 0>\u001b[0;34m()\u001b[0m\n\u001b[1;32m      9\u001b[0m \u001b[0;34m\u001b[0m\u001b[0m\n\u001b[1;32m     10\u001b[0m \u001b[0;34m\u001b[0m\u001b[0m\n\u001b[0;32m---> 11\u001b[0;31m \u001b[0;32mclass\u001b[0m \u001b[0mC\u001b[0m\u001b[0;34m(\u001b[0m\u001b[0mA\u001b[0m\u001b[0;34m,\u001b[0m \u001b[0mB\u001b[0m\u001b[0;34m)\u001b[0m\u001b[0;34m:\u001b[0m\u001b[0;34m\u001b[0m\u001b[0;34m\u001b[0m\u001b[0m\n\u001b[0m\u001b[1;32m     12\u001b[0m     \u001b[0;32mpass\u001b[0m\u001b[0;34m\u001b[0m\u001b[0;34m\u001b[0m\u001b[0m\n\u001b[1;32m     13\u001b[0m \u001b[0;34m\u001b[0m\u001b[0m\n",
            "\u001b[0;31mTypeError\u001b[0m: Cannot create a consistent method resolution\norder (MRO) for bases A, B"
          ]
        }
      ]
    },
    {
      "cell_type": "code",
      "source": [],
      "metadata": {
        "id": "PV6dumGeGJy0"
      },
      "execution_count": null,
      "outputs": []
    }
  ]
}